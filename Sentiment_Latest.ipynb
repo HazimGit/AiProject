{
  "nbformat": 4,
  "nbformat_minor": 0,
  "metadata": {
    "colab": {
      "name": "Sentiment Latest",
      "provenance": [],
      "collapsed_sections": []
    },
    "kernelspec": {
      "name": "python3",
      "display_name": "Python 3"
    },
    "language_info": {
      "name": "python"
    }
  },
  "cells": [
    {
      "cell_type": "markdown",
      "metadata": {
        "id": "tqGK_S2-krvQ"
      },
      "source": [
        "#  TWITTER SENTIMENT ANALYSIS ON COVID-19 IN MALAYSIA  "
      ]
    },
    {
      "cell_type": "markdown",
      "metadata": {
        "id": "yplHNGHVlLSR"
      },
      "source": [
        "**Install library**"
      ]
    },
    {
      "cell_type": "code",
      "metadata": {
        "colab": {
          "base_uri": "https://localhost:8080/"
        },
        "id": "XvI0NMm1Rx1l",
        "outputId": "724f7fd7-5f5a-475f-d7c3-fcc3596442de"
      },
      "source": [
        "pip install matplotlib"
      ],
      "execution_count": 1,
      "outputs": [
        {
          "output_type": "stream",
          "text": [
            "Requirement already satisfied: matplotlib in /usr/local/lib/python3.7/dist-packages (3.2.2)\n",
            "Requirement already satisfied: python-dateutil>=2.1 in /usr/local/lib/python3.7/dist-packages (from matplotlib) (2.8.1)\n",
            "Requirement already satisfied: kiwisolver>=1.0.1 in /usr/local/lib/python3.7/dist-packages (from matplotlib) (1.3.1)\n",
            "Requirement already satisfied: pyparsing!=2.0.4,!=2.1.2,!=2.1.6,>=2.0.1 in /usr/local/lib/python3.7/dist-packages (from matplotlib) (2.4.7)\n",
            "Requirement already satisfied: numpy>=1.11 in /usr/local/lib/python3.7/dist-packages (from matplotlib) (1.19.5)\n",
            "Requirement already satisfied: cycler>=0.10 in /usr/local/lib/python3.7/dist-packages (from matplotlib) (0.10.0)\n",
            "Requirement already satisfied: six>=1.5 in /usr/local/lib/python3.7/dist-packages (from python-dateutil>=2.1->matplotlib) (1.15.0)\n"
          ],
          "name": "stdout"
        }
      ]
    },
    {
      "cell_type": "markdown",
      "metadata": {
        "id": "ATc0EcEQlWZ0"
      },
      "source": [
        "**Import library**"
      ]
    },
    {
      "cell_type": "code",
      "metadata": {
        "id": "qsTK4I4URPZU"
      },
      "source": [
        "--\n",
        "import tweepy\n",
        "from textblob import TextBlob\n",
        "from wordcloud import WordCloud\n",
        "import pandas as pd\n",
        "import numpy as np\n",
        "import re\n",
        "import matplotlib.pyplot as plt\n",
        "import nltk\n",
        "import seaborn as sns\n",
        "from nltk.stem.porter import *\n",
        "from sklearn.feature_extraction.text import TfidfVectorizer, CountVectorizer\n",
        "from sklearn.linear_model import LogisticRegression\n",
        "from scipy import stats \n",
        "from sklearn import metrics \n",
        "from sklearn.metrics import mean_squared_error,mean_absolute_error, make_scorer,classification_report,confusion_matrix,accuracy_score,roc_auc_score,roc_curve\n",
        "from sklearn.model_selection import train_test_split,cross_val_score,KFold\n",
        "from sklearn.model_selection import train_test_split\n",
        "from sklearn.metrics import f1_score\n",
        "from sklearn.naive_bayes import BernoulliNB\n",
        "from sklearn import svm\n",
        "from sklearn.ensemble import RandomForestClassifier\n",
        "import warnings \n",
        "warnings.filterwarnings(\"ignore\")\n",
        "plt.style.use('fivethirtyeight')"
      ],
      "execution_count": 2,
      "outputs": []
    },
    {
      "cell_type": "markdown",
      "metadata": {
        "id": "nVZOi44elc41"
      },
      "source": [
        "**Authentication key from Twitter**"
      ]
    },
    {
      "cell_type": "code",
      "metadata": {
        "id": "fCpZYNF9SSDU"
      },
      "source": [
        "# Authentication\n",
        "#consumerKey = \"joRXs4gsNXliJb0aOCqTuF2Pa\"\n",
        "#consumerSecret = \"1J8YpCxynexiyW0ygZo9ClETAelqklOYPOCAjNxkLcAwrmRyIv\"\n",
        "#accessToken = \"832914904281608192-JYCITkWVwxI4jXKPiSz0dLI5pSKp6vU\"\n",
        "#accessTokenSecret = \"152Ew3LbgPve6T72bQ2Zj0FcdMufMJz5zlQtr6uAlP6zi\"\n",
        "\n",
        "#auth = tweepy.OAuthHandler(consumerKey, consumerSecret)\n",
        "#auth.set_access_token(accessToken, accessTokenSecret)\n",
        "#api = tweepy.API(auth, wait_on_rate_limit=True)"
      ],
      "execution_count": 3,
      "outputs": []
    },
    {
      "cell_type": "markdown",
      "metadata": {
        "id": "ReRoUgarlkyN"
      },
      "source": [
        "**Search keyword and number of tweet**"
      ]
    },
    {
      "cell_type": "code",
      "metadata": {
        "id": "HW7CAF0hSlfE"
      },
      "source": [
        "# extract 5000 tweets\n",
        "\n",
        "#search_term = 'covid Malaysia'\n",
        "#tweet_amount = 5000\n",
        "\n",
        "#tweets = tweepy.Cursor(api.search, q=search_term, lang='en').items(tweet_amount)\n",
        "#user_locs = [[tweet.user.screen_name, tweet.user.location, tweet.text] for tweet in tweets]\n",
        "\n",
        "\n",
        "#i=1\n",
        "#for tweet in tweets:\n",
        " # print(str(i) + ') '+ tweet.text + '\\n')\n",
        "  #print(tweet.full_text)\n",
        "  #i = i+1\n"
      ],
      "execution_count": 4,
      "outputs": []
    },
    {
      "cell_type": "code",
      "metadata": {
        "colab": {
          "base_uri": "https://localhost:8080/",
          "height": 422
        },
        "id": "0HBKJwiVqROe",
        "outputId": "eca77382-bd3e-436b-99f2-3057ea710676"
      },
      "source": [
        "# list user, location and tweets \n",
        "#df = pd.DataFrame(data=user_locs, columns=['user', 'location', 'tweets'])\n",
        "df=pd.read_csv('/content/Sentiment_Analysis.csv')\n",
        "\n",
        "pd.set_option('display.max_colwidth' ,1000)\n",
        "\n",
        "#df.to_csv (r'C:\\Users\\hazim\\OneDrive\\Desktop\\AI\\PROJECT\\Sentiment_Analysis.csv', index = False, header=True)\n",
        "\n",
        "df"
      ],
      "execution_count": 5,
      "outputs": [
        {
          "output_type": "execute_result",
          "data": {
            "text/html": [
              "<div>\n",
              "<style scoped>\n",
              "    .dataframe tbody tr th:only-of-type {\n",
              "        vertical-align: middle;\n",
              "    }\n",
              "\n",
              "    .dataframe tbody tr th {\n",
              "        vertical-align: top;\n",
              "    }\n",
              "\n",
              "    .dataframe thead th {\n",
              "        text-align: right;\n",
              "    }\n",
              "</style>\n",
              "<table border=\"1\" class=\"dataframe\">\n",
              "  <thead>\n",
              "    <tr style=\"text-align: right;\">\n",
              "      <th></th>\n",
              "      <th>user</th>\n",
              "      <th>location</th>\n",
              "      <th>tweets</th>\n",
              "    </tr>\n",
              "  </thead>\n",
              "  <tbody>\n",
              "    <tr>\n",
              "      <th>0</th>\n",
              "      <td>M_Wayne_Brown</td>\n",
              "      <td>Bangkok, Thailand</td>\n",
              "      <td>RT @BangkokPostNews: Malaysia's nationwide lockdown that was scheduled to expire Monday is being extended indefinitely, the government has…</td>\n",
              "    </tr>\n",
              "    <tr>\n",
              "      <th>1</th>\n",
              "      <td>JoshLee75167117</td>\n",
              "      <td>Damansara, Selangor</td>\n",
              "      <td>@thevibesnews @malaysia_covid I really wish for Sabah gain another thousands cluster forthcoming. What a dumb decision</td>\n",
              "    </tr>\n",
              "    <tr>\n",
              "      <th>2</th>\n",
              "      <td>TerryDieHeiden</td>\n",
              "      <td>Hell ️‍🔥</td>\n",
              "      <td>@farysafiqahs In relation to covid ke.. kalau covid tu alot of other countries are handling it better than Malaysia… https://t.co/POS8mUwRb1</td>\n",
              "    </tr>\n",
              "    <tr>\n",
              "      <th>3</th>\n",
              "      <td>COVID_19Disease</td>\n",
              "      <td>NaN</td>\n",
              "      <td>#Malaysia's nationwide lockdown that was scheduled to expire Monday is being extended indefinitely, the government… https://t.co/RhgcRfwdBK</td>\n",
              "    </tr>\n",
              "    <tr>\n",
              "      <th>4</th>\n",
              "      <td>bsindia</td>\n",
              "      <td>India</td>\n",
              "      <td>#Malaysia will extend its current restrictions until the Covid-19 pandemic is further contained, Prime Minister… https://t.co/glGYB6fp9M</td>\n",
              "    </tr>\n",
              "    <tr>\n",
              "      <th>...</th>\n",
              "      <td>...</td>\n",
              "      <td>...</td>\n",
              "      <td>...</td>\n",
              "    </tr>\n",
              "    <tr>\n",
              "      <th>4995</th>\n",
              "      <td>awan_biru89</td>\n",
              "      <td>Kuala Lumpur</td>\n",
              "      <td>RT @Soya_Cincau: Malaysia will allow COVID-19 vaccines to be sold via the private market soon. Khairy said, \"If you want to go fast, you pa…</td>\n",
              "    </tr>\n",
              "    <tr>\n",
              "      <th>4996</th>\n",
              "      <td>syedalaqib</td>\n",
              "      <td>NaN</td>\n",
              "      <td>RT @malaymail: JKJAV: Covid-19 vaccine administration above 250,000-mark for three days in a row https://t.co/rt6pxYvklH</td>\n",
              "    </tr>\n",
              "    <tr>\n",
              "      <th>4997</th>\n",
              "      <td>broz6969</td>\n",
              "      <td>NaN</td>\n",
              "      <td>RT @malaysiakini: MP SPEAKS | Malaysia will never win the war against Covid-19 if… https://t.co/115usvcOUl</td>\n",
              "    </tr>\n",
              "    <tr>\n",
              "      <th>4998</th>\n",
              "      <td>jasze36</td>\n",
              "      <td>Malaysia</td>\n",
              "      <td>RT @malaymail: JKJAV: Covid-19 vaccine administration above 250,000-mark for three days in a row https://t.co/rt6pxYvklH</td>\n",
              "    </tr>\n",
              "    <tr>\n",
              "      <th>4999</th>\n",
              "      <td>_musangPutih</td>\n",
              "      <td>ARMY Nation</td>\n",
              "      <td>RT @5hdisaster: Malaysia’s government are always on about LGBT than dealing with the pandemic and it really shows their inability to focus…</td>\n",
              "    </tr>\n",
              "  </tbody>\n",
              "</table>\n",
              "<p>5000 rows × 3 columns</p>\n",
              "</div>"
            ],
            "text/plain": [
              "                 user  ...                                                                                                                                        tweets\n",
              "0       M_Wayne_Brown  ...   RT @BangkokPostNews: Malaysia's nationwide lockdown that was scheduled to expire Monday is being extended indefinitely, the government has…\n",
              "1     JoshLee75167117  ...                        @thevibesnews @malaysia_covid I really wish for Sabah gain another thousands cluster forthcoming. What a dumb decision\n",
              "2      TerryDieHeiden  ...  @farysafiqahs In relation to covid ke.. kalau covid tu alot of other countries are handling it better than Malaysia… https://t.co/POS8mUwRb1\n",
              "3     COVID_19Disease  ...   #Malaysia's nationwide lockdown that was scheduled to expire Monday is being extended indefinitely, the government… https://t.co/RhgcRfwdBK\n",
              "4             bsindia  ...      #Malaysia will extend its current restrictions until the Covid-19 pandemic is further contained, Prime Minister… https://t.co/glGYB6fp9M\n",
              "...               ...  ...                                                                                                                                           ...\n",
              "4995      awan_biru89  ...  RT @Soya_Cincau: Malaysia will allow COVID-19 vaccines to be sold via the private market soon. Khairy said, \"If you want to go fast, you pa…\n",
              "4996       syedalaqib  ...                      RT @malaymail: JKJAV: Covid-19 vaccine administration above 250,000-mark for three days in a row https://t.co/rt6pxYvklH\n",
              "4997         broz6969  ...                                    RT @malaysiakini: MP SPEAKS | Malaysia will never win the war against Covid-19 if… https://t.co/115usvcOUl\n",
              "4998          jasze36  ...                      RT @malaymail: JKJAV: Covid-19 vaccine administration above 250,000-mark for three days in a row https://t.co/rt6pxYvklH\n",
              "4999     _musangPutih  ...   RT @5hdisaster: Malaysia’s government are always on about LGBT than dealing with the pandemic and it really shows their inability to focus…\n",
              "\n",
              "[5000 rows x 3 columns]"
            ]
          },
          "metadata": {
            "tags": []
          },
          "execution_count": 5
        }
      ]
    },
    {
      "cell_type": "code",
      "metadata": {
        "id": "Zg1s101LZq3s"
      },
      "source": [
        "# drop any duplicate tweets\n",
        "#df = df.drop_duplicates (['tweets'])\n",
        "#df"
      ],
      "execution_count": 6,
      "outputs": []
    },
    {
      "cell_type": "code",
      "metadata": {
        "colab": {
          "base_uri": "https://localhost:8080/",
          "height": 422
        },
        "id": "vh9UOE9YaeJz",
        "outputId": "d00d8bb4-ccad-4761-daa0-3708d8a16cc0"
      },
      "source": [
        "# clean text from any username, RT, punctuation and url\n",
        "\n",
        "def cleanTxt(text):\n",
        "  text = re.sub(r'@[A-Za-z0-9]+', '', text)\n",
        "  text = re.sub(r'#','', text)\n",
        "  text = re.sub(r'RT[\\s]+','',text)\n",
        "  text = re.sub(r'https?:\\/\\/\\S+','', text)\n",
        "  text = re.sub(r':+', '', text)\n",
        "  text = re.sub(r'\\n', '', text)\n",
        "\n",
        "  return text\n",
        "\n",
        "df['tweets']= df['tweets'].apply(cleanTxt)\n",
        "\n",
        "df"
      ],
      "execution_count": 7,
      "outputs": [
        {
          "output_type": "execute_result",
          "data": {
            "text/html": [
              "<div>\n",
              "<style scoped>\n",
              "    .dataframe tbody tr th:only-of-type {\n",
              "        vertical-align: middle;\n",
              "    }\n",
              "\n",
              "    .dataframe tbody tr th {\n",
              "        vertical-align: top;\n",
              "    }\n",
              "\n",
              "    .dataframe thead th {\n",
              "        text-align: right;\n",
              "    }\n",
              "</style>\n",
              "<table border=\"1\" class=\"dataframe\">\n",
              "  <thead>\n",
              "    <tr style=\"text-align: right;\">\n",
              "      <th></th>\n",
              "      <th>user</th>\n",
              "      <th>location</th>\n",
              "      <th>tweets</th>\n",
              "    </tr>\n",
              "  </thead>\n",
              "  <tbody>\n",
              "    <tr>\n",
              "      <th>0</th>\n",
              "      <td>M_Wayne_Brown</td>\n",
              "      <td>Bangkok, Thailand</td>\n",
              "      <td>Malaysia's nationwide lockdown that was scheduled to expire Monday is being extended indefinitely, the government has…</td>\n",
              "    </tr>\n",
              "    <tr>\n",
              "      <th>1</th>\n",
              "      <td>JoshLee75167117</td>\n",
              "      <td>Damansara, Selangor</td>\n",
              "      <td>_covid I really wish for Sabah gain another thousands cluster forthcoming. What a dumb decision</td>\n",
              "    </tr>\n",
              "    <tr>\n",
              "      <th>2</th>\n",
              "      <td>TerryDieHeiden</td>\n",
              "      <td>Hell ️‍🔥</td>\n",
              "      <td>In relation to covid ke.. kalau covid tu alot of other countries are handling it better than Malaysia…</td>\n",
              "    </tr>\n",
              "    <tr>\n",
              "      <th>3</th>\n",
              "      <td>COVID_19Disease</td>\n",
              "      <td>NaN</td>\n",
              "      <td>Malaysia's nationwide lockdown that was scheduled to expire Monday is being extended indefinitely, the government…</td>\n",
              "    </tr>\n",
              "    <tr>\n",
              "      <th>4</th>\n",
              "      <td>bsindia</td>\n",
              "      <td>India</td>\n",
              "      <td>Malaysia will extend its current restrictions until the Covid-19 pandemic is further contained, Prime Minister…</td>\n",
              "    </tr>\n",
              "    <tr>\n",
              "      <th>...</th>\n",
              "      <td>...</td>\n",
              "      <td>...</td>\n",
              "      <td>...</td>\n",
              "    </tr>\n",
              "    <tr>\n",
              "      <th>4995</th>\n",
              "      <td>awan_biru89</td>\n",
              "      <td>Kuala Lumpur</td>\n",
              "      <td>_Cincau Malaysia will allow COVID-19 vaccines to be sold via the private market soon. Khairy said, \"If you want to go fast, you pa…</td>\n",
              "    </tr>\n",
              "    <tr>\n",
              "      <th>4996</th>\n",
              "      <td>syedalaqib</td>\n",
              "      <td>NaN</td>\n",
              "      <td>JKJAV Covid-19 vaccine administration above 250,000-mark for three days in a row</td>\n",
              "    </tr>\n",
              "    <tr>\n",
              "      <th>4997</th>\n",
              "      <td>broz6969</td>\n",
              "      <td>NaN</td>\n",
              "      <td>MP SPEAKS | Malaysia will never win the war against Covid-19 if…</td>\n",
              "    </tr>\n",
              "    <tr>\n",
              "      <th>4998</th>\n",
              "      <td>jasze36</td>\n",
              "      <td>Malaysia</td>\n",
              "      <td>JKJAV Covid-19 vaccine administration above 250,000-mark for three days in a row</td>\n",
              "    </tr>\n",
              "    <tr>\n",
              "      <th>4999</th>\n",
              "      <td>_musangPutih</td>\n",
              "      <td>ARMY Nation</td>\n",
              "      <td>Malaysia’s government are always on about LGBT than dealing with the pandemic and it really shows their inability to focus…</td>\n",
              "    </tr>\n",
              "  </tbody>\n",
              "</table>\n",
              "<p>5000 rows × 3 columns</p>\n",
              "</div>"
            ],
            "text/plain": [
              "                 user  ...                                                                                                                               tweets\n",
              "0       M_Wayne_Brown  ...               Malaysia's nationwide lockdown that was scheduled to expire Monday is being extended indefinitely, the government has…\n",
              "1     JoshLee75167117  ...                                      _covid I really wish for Sabah gain another thousands cluster forthcoming. What a dumb decision\n",
              "2      TerryDieHeiden  ...                              In relation to covid ke.. kalau covid tu alot of other countries are handling it better than Malaysia… \n",
              "3     COVID_19Disease  ...                  Malaysia's nationwide lockdown that was scheduled to expire Monday is being extended indefinitely, the government… \n",
              "4             bsindia  ...                     Malaysia will extend its current restrictions until the Covid-19 pandemic is further contained, Prime Minister… \n",
              "...               ...  ...                                                                                                                                  ...\n",
              "4995      awan_biru89  ...  _Cincau Malaysia will allow COVID-19 vaccines to be sold via the private market soon. Khairy said, \"If you want to go fast, you pa…\n",
              "4996       syedalaqib  ...                                                    JKJAV Covid-19 vaccine administration above 250,000-mark for three days in a row \n",
              "4997         broz6969  ...                                                                    MP SPEAKS | Malaysia will never win the war against Covid-19 if… \n",
              "4998          jasze36  ...                                                    JKJAV Covid-19 vaccine administration above 250,000-mark for three days in a row \n",
              "4999     _musangPutih  ...          Malaysia’s government are always on about LGBT than dealing with the pandemic and it really shows their inability to focus…\n",
              "\n",
              "[5000 rows x 3 columns]"
            ]
          },
          "metadata": {
            "tags": []
          },
          "execution_count": 7
        }
      ]
    },
    {
      "cell_type": "code",
      "metadata": {
        "colab": {
          "base_uri": "https://localhost:8080/",
          "height": 422
        },
        "id": "ttppS00RquFT",
        "outputId": "3394a609-94c2-4a82-f6d0-d7b73884adb6"
      },
      "source": [
        "# drop any duplicate tweets\n",
        "df = df.drop_duplicates (['tweets'])\n",
        "df"
      ],
      "execution_count": 8,
      "outputs": [
        {
          "output_type": "execute_result",
          "data": {
            "text/html": [
              "<div>\n",
              "<style scoped>\n",
              "    .dataframe tbody tr th:only-of-type {\n",
              "        vertical-align: middle;\n",
              "    }\n",
              "\n",
              "    .dataframe tbody tr th {\n",
              "        vertical-align: top;\n",
              "    }\n",
              "\n",
              "    .dataframe thead th {\n",
              "        text-align: right;\n",
              "    }\n",
              "</style>\n",
              "<table border=\"1\" class=\"dataframe\">\n",
              "  <thead>\n",
              "    <tr style=\"text-align: right;\">\n",
              "      <th></th>\n",
              "      <th>user</th>\n",
              "      <th>location</th>\n",
              "      <th>tweets</th>\n",
              "    </tr>\n",
              "  </thead>\n",
              "  <tbody>\n",
              "    <tr>\n",
              "      <th>0</th>\n",
              "      <td>M_Wayne_Brown</td>\n",
              "      <td>Bangkok, Thailand</td>\n",
              "      <td>Malaysia's nationwide lockdown that was scheduled to expire Monday is being extended indefinitely, the government has…</td>\n",
              "    </tr>\n",
              "    <tr>\n",
              "      <th>1</th>\n",
              "      <td>JoshLee75167117</td>\n",
              "      <td>Damansara, Selangor</td>\n",
              "      <td>_covid I really wish for Sabah gain another thousands cluster forthcoming. What a dumb decision</td>\n",
              "    </tr>\n",
              "    <tr>\n",
              "      <th>2</th>\n",
              "      <td>TerryDieHeiden</td>\n",
              "      <td>Hell ️‍🔥</td>\n",
              "      <td>In relation to covid ke.. kalau covid tu alot of other countries are handling it better than Malaysia…</td>\n",
              "    </tr>\n",
              "    <tr>\n",
              "      <th>3</th>\n",
              "      <td>COVID_19Disease</td>\n",
              "      <td>NaN</td>\n",
              "      <td>Malaysia's nationwide lockdown that was scheduled to expire Monday is being extended indefinitely, the government…</td>\n",
              "    </tr>\n",
              "    <tr>\n",
              "      <th>4</th>\n",
              "      <td>bsindia</td>\n",
              "      <td>India</td>\n",
              "      <td>Malaysia will extend its current restrictions until the Covid-19 pandemic is further contained, Prime Minister…</td>\n",
              "    </tr>\n",
              "    <tr>\n",
              "      <th>...</th>\n",
              "      <td>...</td>\n",
              "      <td>...</td>\n",
              "      <td>...</td>\n",
              "    </tr>\n",
              "    <tr>\n",
              "      <th>4980</th>\n",
              "      <td>malaymail</td>\n",
              "      <td>Malaysia</td>\n",
              "      <td>Nearly 110,000 receive first Covid jab as vaccination gathers pace in Sibu</td>\n",
              "    </tr>\n",
              "    <tr>\n",
              "      <th>4987</th>\n",
              "      <td>LowElsielow</td>\n",
              "      <td>NaN</td>\n",
              "      <td>PN will ruin Malaysia before Covid does.KerajaanGagal</td>\n",
              "    </tr>\n",
              "    <tr>\n",
              "      <th>4988</th>\n",
              "      <td>codebluenews</td>\n",
              "      <td>Kuala Lumpur</td>\n",
              "      <td>Malaysia achieved a daily high record of 268,604 Covid-19 doses administered nationwide on 24 June.Malaysia reach…</td>\n",
              "    </tr>\n",
              "    <tr>\n",
              "      <th>4993</th>\n",
              "      <td>NewsBFM</td>\n",
              "      <td>Kuala Lumpur</td>\n",
              "      <td>Federal Territories Minister Annuar Musa says people are seemingly unafraid of Covid-19, which he believes is an in…</td>\n",
              "    </tr>\n",
              "    <tr>\n",
              "      <th>4996</th>\n",
              "      <td>syedalaqib</td>\n",
              "      <td>NaN</td>\n",
              "      <td>JKJAV Covid-19 vaccine administration above 250,000-mark for three days in a row</td>\n",
              "    </tr>\n",
              "  </tbody>\n",
              "</table>\n",
              "<p>1255 rows × 3 columns</p>\n",
              "</div>"
            ],
            "text/plain": [
              "                 user  ...                                                                                                                   tweets\n",
              "0       M_Wayne_Brown  ...   Malaysia's nationwide lockdown that was scheduled to expire Monday is being extended indefinitely, the government has…\n",
              "1     JoshLee75167117  ...                          _covid I really wish for Sabah gain another thousands cluster forthcoming. What a dumb decision\n",
              "2      TerryDieHeiden  ...                  In relation to covid ke.. kalau covid tu alot of other countries are handling it better than Malaysia… \n",
              "3     COVID_19Disease  ...      Malaysia's nationwide lockdown that was scheduled to expire Monday is being extended indefinitely, the government… \n",
              "4             bsindia  ...         Malaysia will extend its current restrictions until the Covid-19 pandemic is further contained, Prime Minister… \n",
              "...               ...  ...                                                                                                                      ...\n",
              "4980        malaymail  ...                                              Nearly 110,000 receive first Covid jab as vaccination gathers pace in Sibu \n",
              "4987      LowElsielow  ...                                                                   PN will ruin Malaysia before Covid does.KerajaanGagal \n",
              "4988     codebluenews  ...      Malaysia achieved a daily high record of 268,604 Covid-19 doses administered nationwide on 24 June.Malaysia reach… \n",
              "4993          NewsBFM  ...    Federal Territories Minister Annuar Musa says people are seemingly unafraid of Covid-19, which he believes is an in… \n",
              "4996       syedalaqib  ...                                        JKJAV Covid-19 vaccine administration above 250,000-mark for three days in a row \n",
              "\n",
              "[1255 rows x 3 columns]"
            ]
          },
          "metadata": {
            "tags": []
          },
          "execution_count": 8
        }
      ]
    },
    {
      "cell_type": "code",
      "metadata": {
        "colab": {
          "base_uri": "https://localhost:8080/",
          "height": 422
        },
        "id": "ilwk6oVyfOAw",
        "outputId": "318acb6a-5316-44a4-fb5c-ed5351007dbf"
      },
      "source": [
        "# List out the polarity and subjectivity of each tweets\n",
        "\n",
        "def getSubjectivity(text):\n",
        "  return TextBlob(text).sentiment.subjectivity\n",
        "\n",
        "def getPolarity(text):\n",
        "  return TextBlob(text).sentiment.polarity\n",
        "\n",
        "df['Subjectivity'] = df['tweets'].apply(getSubjectivity)\n",
        "df['Polarity'] = df['tweets'].apply(getPolarity)\n",
        "\n",
        "df"
      ],
      "execution_count": 9,
      "outputs": [
        {
          "output_type": "execute_result",
          "data": {
            "text/html": [
              "<div>\n",
              "<style scoped>\n",
              "    .dataframe tbody tr th:only-of-type {\n",
              "        vertical-align: middle;\n",
              "    }\n",
              "\n",
              "    .dataframe tbody tr th {\n",
              "        vertical-align: top;\n",
              "    }\n",
              "\n",
              "    .dataframe thead th {\n",
              "        text-align: right;\n",
              "    }\n",
              "</style>\n",
              "<table border=\"1\" class=\"dataframe\">\n",
              "  <thead>\n",
              "    <tr style=\"text-align: right;\">\n",
              "      <th></th>\n",
              "      <th>user</th>\n",
              "      <th>location</th>\n",
              "      <th>tweets</th>\n",
              "      <th>Subjectivity</th>\n",
              "      <th>Polarity</th>\n",
              "    </tr>\n",
              "  </thead>\n",
              "  <tbody>\n",
              "    <tr>\n",
              "      <th>0</th>\n",
              "      <td>M_Wayne_Brown</td>\n",
              "      <td>Bangkok, Thailand</td>\n",
              "      <td>Malaysia's nationwide lockdown that was scheduled to expire Monday is being extended indefinitely, the government has…</td>\n",
              "      <td>0.000000</td>\n",
              "      <td>0.0000</td>\n",
              "    </tr>\n",
              "    <tr>\n",
              "      <th>1</th>\n",
              "      <td>JoshLee75167117</td>\n",
              "      <td>Damansara, Selangor</td>\n",
              "      <td>_covid I really wish for Sabah gain another thousands cluster forthcoming. What a dumb decision</td>\n",
              "      <td>0.350000</td>\n",
              "      <td>-0.0875</td>\n",
              "    </tr>\n",
              "    <tr>\n",
              "      <th>2</th>\n",
              "      <td>TerryDieHeiden</td>\n",
              "      <td>Hell ️‍🔥</td>\n",
              "      <td>In relation to covid ke.. kalau covid tu alot of other countries are handling it better than Malaysia…</td>\n",
              "      <td>0.437500</td>\n",
              "      <td>0.1875</td>\n",
              "    </tr>\n",
              "    <tr>\n",
              "      <th>3</th>\n",
              "      <td>COVID_19Disease</td>\n",
              "      <td>NaN</td>\n",
              "      <td>Malaysia's nationwide lockdown that was scheduled to expire Monday is being extended indefinitely, the government…</td>\n",
              "      <td>0.000000</td>\n",
              "      <td>0.0000</td>\n",
              "    </tr>\n",
              "    <tr>\n",
              "      <th>4</th>\n",
              "      <td>bsindia</td>\n",
              "      <td>India</td>\n",
              "      <td>Malaysia will extend its current restrictions until the Covid-19 pandemic is further contained, Prime Minister…</td>\n",
              "      <td>0.450000</td>\n",
              "      <td>0.0000</td>\n",
              "    </tr>\n",
              "    <tr>\n",
              "      <th>...</th>\n",
              "      <td>...</td>\n",
              "      <td>...</td>\n",
              "      <td>...</td>\n",
              "      <td>...</td>\n",
              "      <td>...</td>\n",
              "    </tr>\n",
              "    <tr>\n",
              "      <th>4980</th>\n",
              "      <td>malaymail</td>\n",
              "      <td>Malaysia</td>\n",
              "      <td>Nearly 110,000 receive first Covid jab as vaccination gathers pace in Sibu</td>\n",
              "      <td>0.366667</td>\n",
              "      <td>0.1750</td>\n",
              "    </tr>\n",
              "    <tr>\n",
              "      <th>4987</th>\n",
              "      <td>LowElsielow</td>\n",
              "      <td>NaN</td>\n",
              "      <td>PN will ruin Malaysia before Covid does.KerajaanGagal</td>\n",
              "      <td>0.000000</td>\n",
              "      <td>0.0000</td>\n",
              "    </tr>\n",
              "    <tr>\n",
              "      <th>4988</th>\n",
              "      <td>codebluenews</td>\n",
              "      <td>Kuala Lumpur</td>\n",
              "      <td>Malaysia achieved a daily high record of 268,604 Covid-19 doses administered nationwide on 24 June.Malaysia reach…</td>\n",
              "      <td>0.270000</td>\n",
              "      <td>0.0800</td>\n",
              "    </tr>\n",
              "    <tr>\n",
              "      <th>4993</th>\n",
              "      <td>NewsBFM</td>\n",
              "      <td>Kuala Lumpur</td>\n",
              "      <td>Federal Territories Minister Annuar Musa says people are seemingly unafraid of Covid-19, which he believes is an in…</td>\n",
              "      <td>0.000000</td>\n",
              "      <td>0.0000</td>\n",
              "    </tr>\n",
              "    <tr>\n",
              "      <th>4996</th>\n",
              "      <td>syedalaqib</td>\n",
              "      <td>NaN</td>\n",
              "      <td>JKJAV Covid-19 vaccine administration above 250,000-mark for three days in a row</td>\n",
              "      <td>0.100000</td>\n",
              "      <td>0.0000</td>\n",
              "    </tr>\n",
              "  </tbody>\n",
              "</table>\n",
              "<p>1255 rows × 5 columns</p>\n",
              "</div>"
            ],
            "text/plain": [
              "                 user             location  ... Subjectivity  Polarity\n",
              "0       M_Wayne_Brown    Bangkok, Thailand  ...     0.000000    0.0000\n",
              "1     JoshLee75167117  Damansara, Selangor  ...     0.350000   -0.0875\n",
              "2      TerryDieHeiden             Hell ️‍🔥  ...     0.437500    0.1875\n",
              "3     COVID_19Disease                  NaN  ...     0.000000    0.0000\n",
              "4             bsindia                India  ...     0.450000    0.0000\n",
              "...               ...                  ...  ...          ...       ...\n",
              "4980        malaymail             Malaysia  ...     0.366667    0.1750\n",
              "4987      LowElsielow                  NaN  ...     0.000000    0.0000\n",
              "4988     codebluenews         Kuala Lumpur  ...     0.270000    0.0800\n",
              "4993          NewsBFM         Kuala Lumpur  ...     0.000000    0.0000\n",
              "4996       syedalaqib                  NaN  ...     0.100000    0.0000\n",
              "\n",
              "[1255 rows x 5 columns]"
            ]
          },
          "metadata": {
            "tags": []
          },
          "execution_count": 9
        }
      ]
    },
    {
      "cell_type": "markdown",
      "metadata": {
        "id": "4Bp_rbgYmuGL"
      },
      "source": [
        "**Understanding the common words used in the tweets**"
      ]
    },
    {
      "cell_type": "code",
      "metadata": {
        "colab": {
          "base_uri": "https://localhost:8080/",
          "height": 256
        },
        "id": "8d6FVMSMgbin",
        "outputId": "586d6778-f449-404b-d17e-74341873f79d"
      },
      "source": [
        "# Plot WordCloud\n",
        "allWords = ' '.join([twts for twts in df['tweets']])\n",
        "wordCloud = WordCloud(width = 500, height = 300, random_state = 21, max_font_size = 119).generate(allWords)\n",
        "\n",
        "plt.imshow(wordCloud, interpolation='bilinear')\n",
        "plt.axis('off')\n",
        "plt.show()"
      ],
      "execution_count": 10,
      "outputs": [
        {
          "output_type": "display_data",
          "data": {
            "image/png": "[encoded data removed]",
            "text/plain": [
              "<Figure size 432x288 with 1 Axes>"
            ]
          },
          "metadata": {
            "tags": []
          }
        }
      ]
    },
    {
      "cell_type": "code",
      "metadata": {
        "colab": {
          "base_uri": "https://localhost:8080/",
          "height": 422
        },
        "id": "N6lEFv6Ihk6Y",
        "outputId": "0ef851dc-0874-43e8-dc6b-0680afbd02eb"
      },
      "source": [
        "# Negative, Positive, Neutral analysis\n",
        "\n",
        "def getAnalaysis(score):\n",
        "  if score < 0:\n",
        "    return 'Negative'\n",
        "  elif score == 0:\n",
        "    return 'Neutral'\n",
        "  else:\n",
        "    return 'Positive'\n",
        "\n",
        "df['Sentiments'] =df['Polarity'].apply(getAnalaysis)\n",
        "\n",
        "df"
      ],
      "execution_count": 11,
      "outputs": [
        {
          "output_type": "execute_result",
          "data": {
            "text/html": [
              "<div>\n",
              "<style scoped>\n",
              "    .dataframe tbody tr th:only-of-type {\n",
              "        vertical-align: middle;\n",
              "    }\n",
              "\n",
              "    .dataframe tbody tr th {\n",
              "        vertical-align: top;\n",
              "    }\n",
              "\n",
              "    .dataframe thead th {\n",
              "        text-align: right;\n",
              "    }\n",
              "</style>\n",
              "<table border=\"1\" class=\"dataframe\">\n",
              "  <thead>\n",
              "    <tr style=\"text-align: right;\">\n",
              "      <th></th>\n",
              "      <th>user</th>\n",
              "      <th>location</th>\n",
              "      <th>tweets</th>\n",
              "      <th>Subjectivity</th>\n",
              "      <th>Polarity</th>\n",
              "      <th>Sentiments</th>\n",
              "    </tr>\n",
              "  </thead>\n",
              "  <tbody>\n",
              "    <tr>\n",
              "      <th>0</th>\n",
              "      <td>M_Wayne_Brown</td>\n",
              "      <td>Bangkok, Thailand</td>\n",
              "      <td>Malaysia's nationwide lockdown that was scheduled to expire Monday is being extended indefinitely, the government has…</td>\n",
              "      <td>0.000000</td>\n",
              "      <td>0.0000</td>\n",
              "      <td>Neutral</td>\n",
              "    </tr>\n",
              "    <tr>\n",
              "      <th>1</th>\n",
              "      <td>JoshLee75167117</td>\n",
              "      <td>Damansara, Selangor</td>\n",
              "      <td>_covid I really wish for Sabah gain another thousands cluster forthcoming. What a dumb decision</td>\n",
              "      <td>0.350000</td>\n",
              "      <td>-0.0875</td>\n",
              "      <td>Negative</td>\n",
              "    </tr>\n",
              "    <tr>\n",
              "      <th>2</th>\n",
              "      <td>TerryDieHeiden</td>\n",
              "      <td>Hell ️‍🔥</td>\n",
              "      <td>In relation to covid ke.. kalau covid tu alot of other countries are handling it better than Malaysia…</td>\n",
              "      <td>0.437500</td>\n",
              "      <td>0.1875</td>\n",
              "      <td>Positive</td>\n",
              "    </tr>\n",
              "    <tr>\n",
              "      <th>3</th>\n",
              "      <td>COVID_19Disease</td>\n",
              "      <td>NaN</td>\n",
              "      <td>Malaysia's nationwide lockdown that was scheduled to expire Monday is being extended indefinitely, the government…</td>\n",
              "      <td>0.000000</td>\n",
              "      <td>0.0000</td>\n",
              "      <td>Neutral</td>\n",
              "    </tr>\n",
              "    <tr>\n",
              "      <th>4</th>\n",
              "      <td>bsindia</td>\n",
              "      <td>India</td>\n",
              "      <td>Malaysia will extend its current restrictions until the Covid-19 pandemic is further contained, Prime Minister…</td>\n",
              "      <td>0.450000</td>\n",
              "      <td>0.0000</td>\n",
              "      <td>Neutral</td>\n",
              "    </tr>\n",
              "    <tr>\n",
              "      <th>...</th>\n",
              "      <td>...</td>\n",
              "      <td>...</td>\n",
              "      <td>...</td>\n",
              "      <td>...</td>\n",
              "      <td>...</td>\n",
              "      <td>...</td>\n",
              "    </tr>\n",
              "    <tr>\n",
              "      <th>4980</th>\n",
              "      <td>malaymail</td>\n",
              "      <td>Malaysia</td>\n",
              "      <td>Nearly 110,000 receive first Covid jab as vaccination gathers pace in Sibu</td>\n",
              "      <td>0.366667</td>\n",
              "      <td>0.1750</td>\n",
              "      <td>Positive</td>\n",
              "    </tr>\n",
              "    <tr>\n",
              "      <th>4987</th>\n",
              "      <td>LowElsielow</td>\n",
              "      <td>NaN</td>\n",
              "      <td>PN will ruin Malaysia before Covid does.KerajaanGagal</td>\n",
              "      <td>0.000000</td>\n",
              "      <td>0.0000</td>\n",
              "      <td>Neutral</td>\n",
              "    </tr>\n",
              "    <tr>\n",
              "      <th>4988</th>\n",
              "      <td>codebluenews</td>\n",
              "      <td>Kuala Lumpur</td>\n",
              "      <td>Malaysia achieved a daily high record of 268,604 Covid-19 doses administered nationwide on 24 June.Malaysia reach…</td>\n",
              "      <td>0.270000</td>\n",
              "      <td>0.0800</td>\n",
              "      <td>Positive</td>\n",
              "    </tr>\n",
              "    <tr>\n",
              "      <th>4993</th>\n",
              "      <td>NewsBFM</td>\n",
              "      <td>Kuala Lumpur</td>\n",
              "      <td>Federal Territories Minister Annuar Musa says people are seemingly unafraid of Covid-19, which he believes is an in…</td>\n",
              "      <td>0.000000</td>\n",
              "      <td>0.0000</td>\n",
              "      <td>Neutral</td>\n",
              "    </tr>\n",
              "    <tr>\n",
              "      <th>4996</th>\n",
              "      <td>syedalaqib</td>\n",
              "      <td>NaN</td>\n",
              "      <td>JKJAV Covid-19 vaccine administration above 250,000-mark for three days in a row</td>\n",
              "      <td>0.100000</td>\n",
              "      <td>0.0000</td>\n",
              "      <td>Neutral</td>\n",
              "    </tr>\n",
              "  </tbody>\n",
              "</table>\n",
              "<p>1255 rows × 6 columns</p>\n",
              "</div>"
            ],
            "text/plain": [
              "                 user             location  ... Polarity  Sentiments\n",
              "0       M_Wayne_Brown    Bangkok, Thailand  ...   0.0000     Neutral\n",
              "1     JoshLee75167117  Damansara, Selangor  ...  -0.0875    Negative\n",
              "2      TerryDieHeiden             Hell ️‍🔥  ...   0.1875    Positive\n",
              "3     COVID_19Disease                  NaN  ...   0.0000     Neutral\n",
              "4             bsindia                India  ...   0.0000     Neutral\n",
              "...               ...                  ...  ...      ...         ...\n",
              "4980        malaymail             Malaysia  ...   0.1750    Positive\n",
              "4987      LowElsielow                  NaN  ...   0.0000     Neutral\n",
              "4988     codebluenews         Kuala Lumpur  ...   0.0800    Positive\n",
              "4993          NewsBFM         Kuala Lumpur  ...   0.0000     Neutral\n",
              "4996       syedalaqib                  NaN  ...   0.0000     Neutral\n",
              "\n",
              "[1255 rows x 6 columns]"
            ]
          },
          "metadata": {
            "tags": []
          },
          "execution_count": 11
        }
      ]
    },
    {
      "cell_type": "code",
      "metadata": {
        "colab": {
          "base_uri": "https://localhost:8080/"
        },
        "id": "N-VB3NJIlyds",
        "outputId": "56a6c530-5176-4315-ede1-b4c680a263b7"
      },
      "source": [
        "df['Sentiments'].value_counts()"
      ],
      "execution_count": 12,
      "outputs": [
        {
          "output_type": "execute_result",
          "data": {
            "text/plain": [
              "Neutral     570\n",
              "Positive    450\n",
              "Negative    235\n",
              "Name: Sentiments, dtype: int64"
            ]
          },
          "metadata": {
            "tags": []
          },
          "execution_count": 12
        }
      ]
    },
    {
      "cell_type": "code",
      "metadata": {
        "colab": {
          "base_uri": "https://localhost:8080/",
          "height": 422
        },
        "id": "uEXeKDGFiJIw",
        "outputId": "b3a99a1f-9ba2-4721-d34e-51c97636fb1e"
      },
      "source": [
        "# Print all of the positive tweets\n",
        "df[df['Sentiments']=='Positive']"
      ],
      "execution_count": 13,
      "outputs": [
        {
          "output_type": "execute_result",
          "data": {
            "text/html": [
              "<div>\n",
              "<style scoped>\n",
              "    .dataframe tbody tr th:only-of-type {\n",
              "        vertical-align: middle;\n",
              "    }\n",
              "\n",
              "    .dataframe tbody tr th {\n",
              "        vertical-align: top;\n",
              "    }\n",
              "\n",
              "    .dataframe thead th {\n",
              "        text-align: right;\n",
              "    }\n",
              "</style>\n",
              "<table border=\"1\" class=\"dataframe\">\n",
              "  <thead>\n",
              "    <tr style=\"text-align: right;\">\n",
              "      <th></th>\n",
              "      <th>user</th>\n",
              "      <th>location</th>\n",
              "      <th>tweets</th>\n",
              "      <th>Subjectivity</th>\n",
              "      <th>Polarity</th>\n",
              "      <th>Sentiments</th>\n",
              "    </tr>\n",
              "  </thead>\n",
              "  <tbody>\n",
              "    <tr>\n",
              "      <th>2</th>\n",
              "      <td>TerryDieHeiden</td>\n",
              "      <td>Hell ️‍🔥</td>\n",
              "      <td>In relation to covid ke.. kalau covid tu alot of other countries are handling it better than Malaysia…</td>\n",
              "      <td>0.437500</td>\n",
              "      <td>0.187500</td>\n",
              "      <td>Positive</td>\n",
              "    </tr>\n",
              "    <tr>\n",
              "      <th>6</th>\n",
              "      <td>FiqhTabayyun</td>\n",
              "      <td>Kuantan, Pahang</td>\n",
              "      <td>Adopt ‘jab first, register later’ approach to flatten Malaysia’s Covid-19 curve, govt told👍👍👍👍👍👍👍👍👍👍</td>\n",
              "      <td>0.166667</td>\n",
              "      <td>0.125000</td>\n",
              "      <td>Positive</td>\n",
              "    </tr>\n",
              "    <tr>\n",
              "      <th>7</th>\n",
              "      <td>AlfonsoTheOne</td>\n",
              "      <td>NaN</td>\n",
              "      <td>Adopt ‘jab first, register later’ approach to flatten Malaysia’s Covid-19 curve, govt told👍👍👍👍👍👍👍👍👍👍</td>\n",
              "      <td>0.166667</td>\n",
              "      <td>0.125000</td>\n",
              "      <td>Positive</td>\n",
              "    </tr>\n",
              "    <tr>\n",
              "      <th>12</th>\n",
              "      <td>saroki19</td>\n",
              "      <td>Malaysia</td>\n",
              "      <td>Selangor has the highest covid-19 cases. Logically you should allocate more vaccine to selangor. You put out the ma…</td>\n",
              "      <td>0.375000</td>\n",
              "      <td>0.375000</td>\n",
              "      <td>Positive</td>\n",
              "    </tr>\n",
              "    <tr>\n",
              "      <th>20</th>\n",
              "      <td>SAMLgk1</td>\n",
              "      <td>NaN</td>\n",
              "      <td>_covid  Is it true the vaccination center in POLIMAS Jitra is closed for 6 days due to vaccine stock shortage?</td>\n",
              "      <td>0.306250</td>\n",
              "      <td>0.006250</td>\n",
              "      <td>Positive</td>\n",
              "    </tr>\n",
              "    <tr>\n",
              "      <th>...</th>\n",
              "      <td>...</td>\n",
              "      <td>...</td>\n",
              "      <td>...</td>\n",
              "      <td>...</td>\n",
              "      <td>...</td>\n",
              "      <td>...</td>\n",
              "    </tr>\n",
              "    <tr>\n",
              "      <th>4934</th>\n",
              "      <td>myprop9</td>\n",
              "      <td>NaN</td>\n",
              "      <td>Sir, you r the most modern thinking MP thus pls support the immediate opening of economic activities an…</td>\n",
              "      <td>0.333333</td>\n",
              "      <td>0.300000</td>\n",
              "      <td>Positive</td>\n",
              "    </tr>\n",
              "    <tr>\n",
              "      <th>4970</th>\n",
              "      <td>sauronmymaster</td>\n",
              "      <td>Singapore</td>\n",
              "      <td>My closest cousin from Malaysia is COVID-19 positive. 😭</td>\n",
              "      <td>0.545455</td>\n",
              "      <td>0.227273</td>\n",
              "      <td>Positive</td>\n",
              "    </tr>\n",
              "    <tr>\n",
              "      <th>4979</th>\n",
              "      <td>Zicutake</td>\n",
              "      <td>NaN</td>\n",
              "      <td>Most vulnerable may need annual Covid boosters, says WHO - Free Malaysia Today</td>\n",
              "      <td>0.600000</td>\n",
              "      <td>0.133333</td>\n",
              "      <td>Positive</td>\n",
              "    </tr>\n",
              "    <tr>\n",
              "      <th>4980</th>\n",
              "      <td>malaymail</td>\n",
              "      <td>Malaysia</td>\n",
              "      <td>Nearly 110,000 receive first Covid jab as vaccination gathers pace in Sibu</td>\n",
              "      <td>0.366667</td>\n",
              "      <td>0.175000</td>\n",
              "      <td>Positive</td>\n",
              "    </tr>\n",
              "    <tr>\n",
              "      <th>4988</th>\n",
              "      <td>codebluenews</td>\n",
              "      <td>Kuala Lumpur</td>\n",
              "      <td>Malaysia achieved a daily high record of 268,604 Covid-19 doses administered nationwide on 24 June.Malaysia reach…</td>\n",
              "      <td>0.270000</td>\n",
              "      <td>0.080000</td>\n",
              "      <td>Positive</td>\n",
              "    </tr>\n",
              "  </tbody>\n",
              "</table>\n",
              "<p>450 rows × 6 columns</p>\n",
              "</div>"
            ],
            "text/plain": [
              "                user         location  ...  Polarity  Sentiments\n",
              "2     TerryDieHeiden         Hell ️‍🔥  ...  0.187500    Positive\n",
              "6       FiqhTabayyun  Kuantan, Pahang  ...  0.125000    Positive\n",
              "7      AlfonsoTheOne              NaN  ...  0.125000    Positive\n",
              "12          saroki19         Malaysia  ...  0.375000    Positive\n",
              "20           SAMLgk1              NaN  ...  0.006250    Positive\n",
              "...              ...              ...  ...       ...         ...\n",
              "4934         myprop9              NaN  ...  0.300000    Positive\n",
              "4970  sauronmymaster        Singapore  ...  0.227273    Positive\n",
              "4979        Zicutake              NaN  ...  0.133333    Positive\n",
              "4980       malaymail         Malaysia  ...  0.175000    Positive\n",
              "4988    codebluenews     Kuala Lumpur  ...  0.080000    Positive\n",
              "\n",
              "[450 rows x 6 columns]"
            ]
          },
          "metadata": {
            "tags": []
          },
          "execution_count": 13
        }
      ]
    },
    {
      "cell_type": "code",
      "metadata": {
        "colab": {
          "base_uri": "https://localhost:8080/",
          "height": 422
        },
        "id": "XPfRsDEojM0o",
        "outputId": "ba22b579-3ba2-4192-f3b2-9962190fdeca"
      },
      "source": [
        "# print all of the negative tweets\n",
        "df[df['Sentiments']=='Negative']"
      ],
      "execution_count": 14,
      "outputs": [
        {
          "output_type": "execute_result",
          "data": {
            "text/html": [
              "<div>\n",
              "<style scoped>\n",
              "    .dataframe tbody tr th:only-of-type {\n",
              "        vertical-align: middle;\n",
              "    }\n",
              "\n",
              "    .dataframe tbody tr th {\n",
              "        vertical-align: top;\n",
              "    }\n",
              "\n",
              "    .dataframe thead th {\n",
              "        text-align: right;\n",
              "    }\n",
              "</style>\n",
              "<table border=\"1\" class=\"dataframe\">\n",
              "  <thead>\n",
              "    <tr style=\"text-align: right;\">\n",
              "      <th></th>\n",
              "      <th>user</th>\n",
              "      <th>location</th>\n",
              "      <th>tweets</th>\n",
              "      <th>Subjectivity</th>\n",
              "      <th>Polarity</th>\n",
              "      <th>Sentiments</th>\n",
              "    </tr>\n",
              "  </thead>\n",
              "  <tbody>\n",
              "    <tr>\n",
              "      <th>1</th>\n",
              "      <td>JoshLee75167117</td>\n",
              "      <td>Damansara, Selangor</td>\n",
              "      <td>_covid I really wish for Sabah gain another thousands cluster forthcoming. What a dumb decision</td>\n",
              "      <td>0.350000</td>\n",
              "      <td>-0.087500</td>\n",
              "      <td>Negative</td>\n",
              "    </tr>\n",
              "    <tr>\n",
              "      <th>19</th>\n",
              "      <td>syahiirimran</td>\n",
              "      <td>Malaysia</td>\n",
              "      <td>I just realised that next sem is my last year already. LIKE WTF IS HAPPENING RN. I’M NOT PAYING THE UNI AND GRADUAT…</td>\n",
              "      <td>0.355556</td>\n",
              "      <td>-0.166667</td>\n",
              "      <td>Negative</td>\n",
              "    </tr>\n",
              "    <tr>\n",
              "      <th>25</th>\n",
              "      <td>ernamh</td>\n",
              "      <td>Kuala Lumpur, Malaysia</td>\n",
              "      <td>_pat91 Maybe Google. It's already in the papers what they're doing or at least trying 🙄 Sabah has to defer…</td>\n",
              "      <td>0.400000</td>\n",
              "      <td>-0.300000</td>\n",
              "      <td>Negative</td>\n",
              "    </tr>\n",
              "    <tr>\n",
              "      <th>27</th>\n",
              "      <td>zhuge8f</td>\n",
              "      <td>Malaysia</td>\n",
              "      <td>_radarsaham World Bank has cut its forecast on Malaysia's GDP from 6.9% to 4.5% due to resurgence in Covid 19 infections &amp;amp; slower…</td>\n",
              "      <td>0.375000</td>\n",
              "      <td>-0.125000</td>\n",
              "      <td>Negative</td>\n",
              "    </tr>\n",
              "    <tr>\n",
              "      <th>32</th>\n",
              "      <td>suzensubadar</td>\n",
              "      <td>Somewhere Over the Rainbow</td>\n",
              "      <td>Been reading stories that some people have paid to get vaccinated. I know we are all desperate but no one should pay for or…</td>\n",
              "      <td>1.000000</td>\n",
              "      <td>-0.600000</td>\n",
              "      <td>Negative</td>\n",
              "    </tr>\n",
              "    <tr>\n",
              "      <th>...</th>\n",
              "      <td>...</td>\n",
              "      <td>...</td>\n",
              "      <td>...</td>\n",
              "      <td>...</td>\n",
              "      <td>...</td>\n",
              "      <td>...</td>\n",
              "    </tr>\n",
              "    <tr>\n",
              "      <th>4888</th>\n",
              "      <td>wasabi1388</td>\n",
              "      <td>NaN</td>\n",
              "      <td>It's very2 inhumane of the FT menteli to say Malaysia is successful in fighting the war against Covid-19 w…</td>\n",
              "      <td>0.925000</td>\n",
              "      <td>-0.075000</td>\n",
              "      <td>Negative</td>\n",
              "    </tr>\n",
              "    <tr>\n",
              "      <th>4900</th>\n",
              "      <td>wasabi1388</td>\n",
              "      <td>NaN</td>\n",
              "      <td>It's very2 inhumane of the FT menteli to say Malaysia is successful in fighting the war against Covid…</td>\n",
              "      <td>0.925000</td>\n",
              "      <td>-0.075000</td>\n",
              "      <td>Negative</td>\n",
              "    </tr>\n",
              "    <tr>\n",
              "      <th>4942</th>\n",
              "      <td>zainisaari</td>\n",
              "      <td>malaysia</td>\n",
              "      <td>The virus will be with us for a long, long time. Booster shots after 2 years. For Malaysia, that's 78 million doses…</td>\n",
              "      <td>0.400000</td>\n",
              "      <td>-0.050000</td>\n",
              "      <td>Negative</td>\n",
              "    </tr>\n",
              "    <tr>\n",
              "      <th>4966</th>\n",
              "      <td>FocusMalaysiaMY</td>\n",
              "      <td>Malaysia</td>\n",
              "      <td>Malaysian equities endured another down day as market conditions remain frail after the World Bank trimmed the coun…</td>\n",
              "      <td>0.288889</td>\n",
              "      <td>-0.155556</td>\n",
              "      <td>Negative</td>\n",
              "    </tr>\n",
              "    <tr>\n",
              "      <th>4967</th>\n",
              "      <td>niccijsmith</td>\n",
              "      <td>Taipei City, Taiwan</td>\n",
              "      <td>Japan's foreign minister said Friday  that Japan will give 1m additional doses of the AstraZeneca Covid-19 vaccine…</td>\n",
              "      <td>0.125000</td>\n",
              "      <td>-0.125000</td>\n",
              "      <td>Negative</td>\n",
              "    </tr>\n",
              "  </tbody>\n",
              "</table>\n",
              "<p>235 rows × 6 columns</p>\n",
              "</div>"
            ],
            "text/plain": [
              "                 user                    location  ...  Polarity  Sentiments\n",
              "1     JoshLee75167117         Damansara, Selangor  ... -0.087500    Negative\n",
              "19       syahiirimran                    Malaysia  ... -0.166667    Negative\n",
              "25             ernamh      Kuala Lumpur, Malaysia  ... -0.300000    Negative\n",
              "27            zhuge8f                    Malaysia  ... -0.125000    Negative\n",
              "32       suzensubadar  Somewhere Over the Rainbow  ... -0.600000    Negative\n",
              "...               ...                         ...  ...       ...         ...\n",
              "4888       wasabi1388                         NaN  ... -0.075000    Negative\n",
              "4900       wasabi1388                         NaN  ... -0.075000    Negative\n",
              "4942       zainisaari                    malaysia  ... -0.050000    Negative\n",
              "4966  FocusMalaysiaMY                    Malaysia  ... -0.155556    Negative\n",
              "4967      niccijsmith         Taipei City, Taiwan  ... -0.125000    Negative\n",
              "\n",
              "[235 rows x 6 columns]"
            ]
          },
          "metadata": {
            "tags": []
          },
          "execution_count": 14
        }
      ]
    },
    {
      "cell_type": "code",
      "metadata": {
        "colab": {
          "base_uri": "https://localhost:8080/"
        },
        "id": "b5fcS30rkcRO",
        "outputId": "513ea81f-2ffc-434a-ac2f-c9d7f60a5c2c"
      },
      "source": [
        "# Get percentage of positive tweets\n",
        "ptweets = df[df.Sentiments == 'Positive']\n",
        "ptweets = ptweets['tweets']\n",
        "\n",
        "round( (ptweets.shape[0] / df.shape[0]) *100, 1)"
      ],
      "execution_count": 15,
      "outputs": [
        {
          "output_type": "execute_result",
          "data": {
            "text/plain": [
              "35.9"
            ]
          },
          "metadata": {
            "tags": []
          },
          "execution_count": 15
        }
      ]
    },
    {
      "cell_type": "code",
      "metadata": {
        "colab": {
          "base_uri": "https://localhost:8080/"
        },
        "id": "rocefd4kloYl",
        "outputId": "9ef013e0-85af-4537-a7c6-36052edefca0"
      },
      "source": [
        "# Get percentage of negative tweets\n",
        "ntweets = df[df.Sentiments == 'Negative']\n",
        "ntweets = ntweets['tweets']\n",
        "\n",
        "round( (ntweets.shape[0] / df.shape[0]) *100, 1)"
      ],
      "execution_count": 16,
      "outputs": [
        {
          "output_type": "execute_result",
          "data": {
            "text/plain": [
              "18.7"
            ]
          },
          "metadata": {
            "tags": []
          },
          "execution_count": 16
        }
      ]
    },
    {
      "cell_type": "code",
      "metadata": {
        "colab": {
          "base_uri": "https://localhost:8080/",
          "height": 374
        },
        "id": "C1bgEPfSlyXl",
        "outputId": "125ce6df-ca9c-4593-f286-2d6ef4d26273"
      },
      "source": [
        "# Show value count\n",
        "df['Sentiments'].value_counts()\n",
        "\n",
        "# plot and visualize the counts\n",
        "plt.title('Sentiment Analysis')\n",
        "plt.xlabel('Sentiment')\n",
        "plt.ylabel('Counts')\n",
        "df['Sentiments'].value_counts().plot(kind='bar')\n",
        "plt.show()"
      ],
      "execution_count": 17,
      "outputs": [
        {
          "output_type": "display_data",
          "data": {
            "image/png": "[encoded data removed]",
            "text/plain": [
              "<Figure size 432x288 with 1 Axes>"
            ]
          },
          "metadata": {
            "tags": []
          }
        }
      ]
    },
    {
      "cell_type": "code",
      "metadata": {
        "colab": {
          "base_uri": "https://localhost:8080/",
          "height": 307
        },
        "id": "bcqzOTfIM4gc",
        "outputId": "12093901-fbd2-4a96-bc5e-878ddc641fe6"
      },
      "source": [
        "# show value count\n",
        "df['Sentiments'].value_counts()\n",
        "\n",
        "# plot and visualize the counts\n",
        "plt.title('Sentiment Analysis ')\n",
        "plt.xlabel('Sentiment')\n",
        "plt.ylabel('Counts')\n",
        "df['Sentiments'].value_counts().plot(kind='pie')\n",
        "plt.show()"
      ],
      "execution_count": 18,
      "outputs": [
        {
          "output_type": "display_data",
          "data": {
            "image/png": "[encoded data removed]",
            "text/plain": [
              "<Figure size 432x288 with 1 Axes>"
            ]
          },
          "metadata": {
            "tags": []
          }
        }
      ]
    },
    {
      "cell_type": "code",
      "metadata": {
        "colab": {
          "base_uri": "https://localhost:8080/",
          "height": 441
        },
        "id": "sSJw4WY7jlI2",
        "outputId": "00f56a18-a7c4-4c2f-d7d1-05a16f988d27"
      },
      "source": [
        "# Plot polarity and subjectivity\n",
        "plt.figure(figsize=(8,6))\n",
        "\n",
        "plt.scatter(df['Polarity'],df['Subjectivity'], color='Blue')\n",
        "\n",
        "plt.title('Sentiment Analysis')\n",
        "plt.xlabel('Polarity')\n",
        "plt.ylabel('Subjectivity')\n",
        "plt.show()"
      ],
      "execution_count": 19,
      "outputs": [
        {
          "output_type": "display_data",
          "data": {
            "image/png": "[encoded data removed]",
            "text/plain": [
              "<Figure size 576x432 with 1 Axes>"
            ]
          },
          "metadata": {
            "tags": []
          }
        }
      ]
    },
    {
      "cell_type": "markdown",
      "metadata": {
        "id": "ZTCcX8WcAgv5"
      },
      "source": [
        "## Extracting features from cleaned tweets"
      ]
    },
    {
      "cell_type": "code",
      "metadata": {
        "colab": {
          "base_uri": "https://localhost:8080/",
          "height": 205
        },
        "id": "mEKv9UxXB-iK",
        "outputId": "6d9e8169-37cb-4191-d19a-d5c341ef7d74"
      },
      "source": [
        "new_df = df[['tweets','Sentiments']]\n",
        "new_df.head()"
      ],
      "execution_count": 20,
      "outputs": [
        {
          "output_type": "execute_result",
          "data": {
            "text/html": [
              "<div>\n",
              "<style scoped>\n",
              "    .dataframe tbody tr th:only-of-type {\n",
              "        vertical-align: middle;\n",
              "    }\n",
              "\n",
              "    .dataframe tbody tr th {\n",
              "        vertical-align: top;\n",
              "    }\n",
              "\n",
              "    .dataframe thead th {\n",
              "        text-align: right;\n",
              "    }\n",
              "</style>\n",
              "<table border=\"1\" class=\"dataframe\">\n",
              "  <thead>\n",
              "    <tr style=\"text-align: right;\">\n",
              "      <th></th>\n",
              "      <th>tweets</th>\n",
              "      <th>Sentiments</th>\n",
              "    </tr>\n",
              "  </thead>\n",
              "  <tbody>\n",
              "    <tr>\n",
              "      <th>0</th>\n",
              "      <td>Malaysia's nationwide lockdown that was scheduled to expire Monday is being extended indefinitely, the government has…</td>\n",
              "      <td>Neutral</td>\n",
              "    </tr>\n",
              "    <tr>\n",
              "      <th>1</th>\n",
              "      <td>_covid I really wish for Sabah gain another thousands cluster forthcoming. What a dumb decision</td>\n",
              "      <td>Negative</td>\n",
              "    </tr>\n",
              "    <tr>\n",
              "      <th>2</th>\n",
              "      <td>In relation to covid ke.. kalau covid tu alot of other countries are handling it better than Malaysia…</td>\n",
              "      <td>Positive</td>\n",
              "    </tr>\n",
              "    <tr>\n",
              "      <th>3</th>\n",
              "      <td>Malaysia's nationwide lockdown that was scheduled to expire Monday is being extended indefinitely, the government…</td>\n",
              "      <td>Neutral</td>\n",
              "    </tr>\n",
              "    <tr>\n",
              "      <th>4</th>\n",
              "      <td>Malaysia will extend its current restrictions until the Covid-19 pandemic is further contained, Prime Minister…</td>\n",
              "      <td>Neutral</td>\n",
              "    </tr>\n",
              "  </tbody>\n",
              "</table>\n",
              "</div>"
            ],
            "text/plain": [
              "                                                                                                                    tweets Sentiments\n",
              "0   Malaysia's nationwide lockdown that was scheduled to expire Monday is being extended indefinitely, the government has…    Neutral\n",
              "1                          _covid I really wish for Sabah gain another thousands cluster forthcoming. What a dumb decision   Negative\n",
              "2                  In relation to covid ke.. kalau covid tu alot of other countries are handling it better than Malaysia…    Positive\n",
              "3      Malaysia's nationwide lockdown that was scheduled to expire Monday is being extended indefinitely, the government…     Neutral\n",
              "4         Malaysia will extend its current restrictions until the Covid-19 pandemic is further contained, Prime Minister…     Neutral"
            ]
          },
          "metadata": {
            "tags": []
          },
          "execution_count": 20
        }
      ]
    },
    {
      "cell_type": "markdown",
      "metadata": {
        "id": "ovE4PHfWm7wR"
      },
      "source": [
        "**Removing stopwords**"
      ]
    },
    {
      "cell_type": "code",
      "metadata": {
        "colab": {
          "base_uri": "https://localhost:8080/"
        },
        "id": "YEIVhjR0Bhro",
        "outputId": "d4ad1f87-0639-4f2d-d8e2-9da9ec418fcb"
      },
      "source": [
        "nltk.download('stopwords')"
      ],
      "execution_count": 21,
      "outputs": [
        {
          "output_type": "stream",
          "text": [
            "[nltk_data] Downloading package stopwords to /root/nltk_data...\n",
            "[nltk_data]   Unzipping corpora/stopwords.zip.\n"
          ],
          "name": "stdout"
        },
        {
          "output_type": "execute_result",
          "data": {
            "text/plain": [
              "True"
            ]
          },
          "metadata": {
            "tags": []
          },
          "execution_count": 21
        }
      ]
    },
    {
      "cell_type": "code",
      "metadata": {
        "id": "OvNhsf2FB3rh"
      },
      "source": [
        "from nltk.corpus import stopwords\n",
        "stop = stopwords.words('english')"
      ],
      "execution_count": 22,
      "outputs": []
    },
    {
      "cell_type": "code",
      "metadata": {
        "colab": {
          "base_uri": "https://localhost:8080/"
        },
        "id": "cOA1WjlZB71y",
        "outputId": "7036ca67-6df4-40ac-f63d-1cb9085d761e"
      },
      "source": [
        "new_df['tweets'].apply(lambda x: [item for item in x if item not in stop])"
      ],
      "execution_count": 23,
      "outputs": [
        {
          "output_type": "execute_result",
          "data": {
            "text/plain": [
              "0                               [ , M, l, ',  , n, n, w, e,  , l, c, k, w, n,  , h,  , w,  , c, h, e, u, l, e,  ,  , e, x, p, r, e,  , M, n,  ,  , b, e, n, g,  , e, x, e, n, e,  , n, e, f, n, e, l, ,,  , h, e,  , g, v, e, r, n, e, n,  , h, …]\n",
              "1                                                                   [ , _, c, v,  , I,  , r, e, l, l,  , w, h,  , f, r,  , S, b, h,  , g, n,  , n, h, e, r,  , h, u, n,  , c, l, u, e, r,  , f, r, h, c, n, g, .,  , W, h,  ,  , u, b,  , e, c, n]\n",
              "2                                                    [ , I, n,  , r, e, l, n,  ,  , c, v,  , k, e, ., .,  , k, l, u,  , c, v,  , u,  , l,  , f,  , h, e, r,  , c, u, n, r, e,  , r, e,  , h, n, l, n, g,  ,  , b, e, e, r,  , h, n,  , M, l, …,  ]\n",
              "3                                     [M, l, ',  , n, n, w, e,  , l, c, k, w, n,  , h,  , w,  , c, h, e, u, l, e,  ,  , e, x, p, r, e,  , M, n,  ,  , b, e, n, g,  , e, x, e, n, e,  , n, e, f, n, e, l, ,,  , h, e,  , g, v, e, r, n, e, n, …,  ]\n",
              "4                                     [M, l,  , w, l, l,  , e, x, e, n,  ,  , c, u, r, r, e, n,  , r, e, r, c, n,  , u, n, l,  , h, e,  , C, v, -, 1, 9,  , p, n, e, c,  ,  , f, u, r, h, e, r,  , c, n, n, e, ,,  , P, r, e,  , M, n, e, r, …,  ]\n",
              "                                                                                                                           ...                                                                                                                    \n",
              "4980                                                                                     [N, e, r, l,  , 1, 1, 0, ,, 0, 0, 0,  , r, e, c, e, v, e,  , f, r,  , C, v,  , j, b,  ,  , v, c, c, n, n,  , g, h, e, r,  , p, c, e,  , n,  , S, b, u,  ]\n",
              "4987                                                                                                                                        [P, N,  , w, l, l,  , r, u, n,  , M, l,  , b, e, f, r, e,  , C, v,  , e, ., K, e, r, j, n, G, g, l,  ]\n",
              "4988                                  [M, l,  , c, h, e, v, e,  ,  , l,  , h, g, h,  , r, e, c, r,  , f,  , 2, 6, 8, ,, 6, 0, 4,  , C, v, -, 1, 9,  , e,  , n, e, r, e,  , n, n, w, e,  , n,  , 2, 4,  , J, u, n, e, ., M, l,  , r, e, c, h, …,  ]\n",
              "4993    [F, e, e, r, l,  , T, e, r, r, r, e,  , M, n, e, r,  , A, n, n, u, r,  , M, u,  ,  , p, e, p, l, e,  , r, e,  , e, e, n, g, l,  , u, n, f, r,  , f,  , C, v, -, 1, 9, ,,  , w, h, c, h,  , h, e,  , b, e, l, e, v, e,  ,  , n,  , n, …,  ]\n",
              "4996                                                                               [ , J, K, J, A, V,  , C, v, -, 1, 9,  , v, c, c, n, e,  , n, r, n,  , b, v, e,  , 2, 5, 0, ,, 0, 0, 0, -, r, k,  , f, r,  , h, r, e, e,  ,  , n,  ,  , r, w,  ]\n",
              "Name: tweets, Length: 1255, dtype: object"
            ]
          },
          "metadata": {
            "tags": []
          },
          "execution_count": 23
        }
      ]
    },
    {
      "cell_type": "code",
      "metadata": {
        "colab": {
          "base_uri": "https://localhost:8080/",
          "height": 236
        },
        "id": "ZuHYgXI0CMfJ",
        "outputId": "32505e22-afd9-4594-dc54-5ce824533ec0"
      },
      "source": [
        "new_df.head(6)"
      ],
      "execution_count": 24,
      "outputs": [
        {
          "output_type": "execute_result",
          "data": {
            "text/html": [
              "<div>\n",
              "<style scoped>\n",
              "    .dataframe tbody tr th:only-of-type {\n",
              "        vertical-align: middle;\n",
              "    }\n",
              "\n",
              "    .dataframe tbody tr th {\n",
              "        vertical-align: top;\n",
              "    }\n",
              "\n",
              "    .dataframe thead th {\n",
              "        text-align: right;\n",
              "    }\n",
              "</style>\n",
              "<table border=\"1\" class=\"dataframe\">\n",
              "  <thead>\n",
              "    <tr style=\"text-align: right;\">\n",
              "      <th></th>\n",
              "      <th>tweets</th>\n",
              "      <th>Sentiments</th>\n",
              "    </tr>\n",
              "  </thead>\n",
              "  <tbody>\n",
              "    <tr>\n",
              "      <th>0</th>\n",
              "      <td>Malaysia's nationwide lockdown that was scheduled to expire Monday is being extended indefinitely, the government has…</td>\n",
              "      <td>Neutral</td>\n",
              "    </tr>\n",
              "    <tr>\n",
              "      <th>1</th>\n",
              "      <td>_covid I really wish for Sabah gain another thousands cluster forthcoming. What a dumb decision</td>\n",
              "      <td>Negative</td>\n",
              "    </tr>\n",
              "    <tr>\n",
              "      <th>2</th>\n",
              "      <td>In relation to covid ke.. kalau covid tu alot of other countries are handling it better than Malaysia…</td>\n",
              "      <td>Positive</td>\n",
              "    </tr>\n",
              "    <tr>\n",
              "      <th>3</th>\n",
              "      <td>Malaysia's nationwide lockdown that was scheduled to expire Monday is being extended indefinitely, the government…</td>\n",
              "      <td>Neutral</td>\n",
              "    </tr>\n",
              "    <tr>\n",
              "      <th>4</th>\n",
              "      <td>Malaysia will extend its current restrictions until the Covid-19 pandemic is further contained, Prime Minister…</td>\n",
              "      <td>Neutral</td>\n",
              "    </tr>\n",
              "    <tr>\n",
              "      <th>5</th>\n",
              "      <td>The Delta variant, which was detected in Malaysia recently, has caused a surge in cases in Kudus within a week. FMTNews  http…</td>\n",
              "      <td>Neutral</td>\n",
              "    </tr>\n",
              "  </tbody>\n",
              "</table>\n",
              "</div>"
            ],
            "text/plain": [
              "                                                                                                                            tweets Sentiments\n",
              "0           Malaysia's nationwide lockdown that was scheduled to expire Monday is being extended indefinitely, the government has…    Neutral\n",
              "1                                  _covid I really wish for Sabah gain another thousands cluster forthcoming. What a dumb decision   Negative\n",
              "2                          In relation to covid ke.. kalau covid tu alot of other countries are handling it better than Malaysia…    Positive\n",
              "3              Malaysia's nationwide lockdown that was scheduled to expire Monday is being extended indefinitely, the government…     Neutral\n",
              "4                 Malaysia will extend its current restrictions until the Covid-19 pandemic is further contained, Prime Minister…     Neutral\n",
              "5   The Delta variant, which was detected in Malaysia recently, has caused a surge in cases in Kudus within a week. FMTNews  http…    Neutral"
            ]
          },
          "metadata": {
            "tags": []
          },
          "execution_count": 24
        }
      ]
    },
    {
      "cell_type": "code",
      "metadata": {
        "colab": {
          "base_uri": "https://localhost:8080/"
        },
        "id": "YhiJGIVV6882",
        "outputId": "cad13182-0353-41fe-fcbb-531a74ce3705"
      },
      "source": [
        "new_df['Sentiments'].value_counts()"
      ],
      "execution_count": 25,
      "outputs": [
        {
          "output_type": "execute_result",
          "data": {
            "text/plain": [
              "Neutral     570\n",
              "Positive    450\n",
              "Negative    235\n",
              "Name: Sentiments, dtype: int64"
            ]
          },
          "metadata": {
            "tags": []
          },
          "execution_count": 25
        }
      ]
    },
    {
      "cell_type": "markdown",
      "metadata": {
        "id": "6ivZ8j1ZqLSc"
      },
      "source": [
        "# **LOGISTIC REGRESSION (MULTICLASS CLASSIFICATION)**"
      ]
    },
    {
      "cell_type": "markdown",
      "metadata": {
        "id": "ELNt-q-5qXmM"
      },
      "source": [
        "**Split train and test dataset**"
      ]
    },
    {
      "cell_type": "code",
      "metadata": {
        "colab": {
          "base_uri": "https://localhost:8080/"
        },
        "id": "Qc50eTOZEpEx",
        "outputId": "1c0ab022-e059-4cb0-a121-c78de5ea222f"
      },
      "source": [
        "from sklearn.model_selection import train_test_split\n",
        "\n",
        "train,valid = train_test_split(new_df,test_size = 0.2,random_state=0,stratify = new_df.Sentiments.values) #stratification means that the train_test_split method returns training and test subsets that have the same proportions of class labels as the input dataset.\n",
        "print(\"train shape : \", train.shape)\n",
        "print(\"valid shape : \", valid.shape)"
      ],
      "execution_count": 26,
      "outputs": [
        {
          "output_type": "stream",
          "text": [
            "train shape :  (1004, 2)\n",
            "valid shape :  (251, 2)\n"
          ],
          "name": "stdout"
        }
      ]
    },
    {
      "cell_type": "markdown",
      "metadata": {
        "id": "DGLtCGATnIc5"
      },
      "source": [
        "# Use Of Counter Vectorizer For Multi Class Classification"
      ]
    },
    {
      "cell_type": "code",
      "metadata": {
        "colab": {
          "base_uri": "https://localhost:8080/"
        },
        "id": "Wi_5ObSvE9r0",
        "outputId": "aa1c6f20-232c-485e-e115-3d578ca800ec"
      },
      "source": [
        "from sklearn.feature_extraction.text import CountVectorizer\n",
        "from nltk.corpus import stopwords\n",
        "stop = list(stopwords.words('english'))\n",
        "vectorizer = CountVectorizer(decode_error = 'replace',stop_words = stop)\n",
        "\n",
        "X_train = vectorizer.fit_transform(train.tweets.values)\n",
        "X_valid = vectorizer.transform(valid.tweets.values)\n",
        "\n",
        "y_train = train.Sentiments.values\n",
        "y_valid = valid.Sentiments.values\n",
        "\n",
        "print(\"X_train.shape : \", X_train.shape)\n",
        "print(\"X_valid.shape : \", X_valid.shape)\n",
        "print(\"y_train.shape : \", y_train.shape)\n",
        "print(\"y_valid.shape : \", y_valid.shape)"
      ],
      "execution_count": 27,
      "outputs": [
        {
          "output_type": "stream",
          "text": [
            "X_train.shape :  (1004, 3067)\n",
            "X_valid.shape :  (251, 3067)\n",
            "y_train.shape :  (1004,)\n",
            "y_valid.shape :  (251,)\n"
          ],
          "name": "stdout"
        }
      ]
    },
    {
      "cell_type": "markdown",
      "metadata": {
        "id": "82atmMQfnO1V"
      },
      "source": [
        "# Logistic Regression(For Multiclass Classification)"
      ]
    },
    {
      "cell_type": "code",
      "metadata": {
        "colab": {
          "base_uri": "https://localhost:8080/"
        },
        "id": "iME847P4FZG7",
        "outputId": "23590c5b-5488-4534-b218-b6e929421fdf"
      },
      "source": [
        "from sklearn.linear_model import LogisticRegression\n",
        "logreg = LogisticRegression()\n",
        "\n",
        "logreg.fit(X_train, y_train)\n",
        "\n",
        "logreg_prediction = logreg.predict(X_valid)\n",
        "number_itter=logreg.n_iter_\n",
        "logreg_accuracy = accuracy_score(y_valid,logreg_prediction)\n",
        "print(\"Training accuracy Score    : \",logreg.score(X_train,y_train))\n",
        "print(\"Validation accuracy Score : \",logreg_accuracy )\n",
        "print(\"Number of Iteration : \", number_itter)\n",
        "print(classification_report(logreg_prediction,y_valid))"
      ],
      "execution_count": 28,
      "outputs": [
        {
          "output_type": "stream",
          "text": [
            "Training accuracy Score    :  0.99800796812749\n",
            "Validation accuracy Score :  0.852589641434263\n",
            "Number of Iteration :  [60]\n",
            "              precision    recall  f1-score   support\n",
            "\n",
            "    Negative       0.77      0.90      0.83        40\n",
            "     Neutral       0.92      0.81      0.86       130\n",
            "    Positive       0.81      0.90      0.85        81\n",
            "\n",
            "    accuracy                           0.85       251\n",
            "   macro avg       0.83      0.87      0.85       251\n",
            "weighted avg       0.86      0.85      0.85       251\n",
            "\n"
          ],
          "name": "stdout"
        }
      ]
    },
    {
      "cell_type": "markdown",
      "metadata": {
        "id": "ftJVNBeon2TN"
      },
      "source": [
        "# CONVERTING MULTICLASS CLASSIFICATION INTO BINARY CLASSIFICATION"
      ]
    },
    {
      "cell_type": "code",
      "metadata": {
        "colab": {
          "base_uri": "https://localhost:8080/",
          "height": 205
        },
        "id": "lkM-J2HInTzB",
        "outputId": "ddf7a4cd-6408-458b-d642-e7ff65c41044"
      },
      "source": [
        "new_df.head()"
      ],
      "execution_count": 29,
      "outputs": [
        {
          "output_type": "execute_result",
          "data": {
            "text/html": [
              "<div>\n",
              "<style scoped>\n",
              "    .dataframe tbody tr th:only-of-type {\n",
              "        vertical-align: middle;\n",
              "    }\n",
              "\n",
              "    .dataframe tbody tr th {\n",
              "        vertical-align: top;\n",
              "    }\n",
              "\n",
              "    .dataframe thead th {\n",
              "        text-align: right;\n",
              "    }\n",
              "</style>\n",
              "<table border=\"1\" class=\"dataframe\">\n",
              "  <thead>\n",
              "    <tr style=\"text-align: right;\">\n",
              "      <th></th>\n",
              "      <th>tweets</th>\n",
              "      <th>Sentiments</th>\n",
              "    </tr>\n",
              "  </thead>\n",
              "  <tbody>\n",
              "    <tr>\n",
              "      <th>0</th>\n",
              "      <td>Malaysia's nationwide lockdown that was scheduled to expire Monday is being extended indefinitely, the government has…</td>\n",
              "      <td>Neutral</td>\n",
              "    </tr>\n",
              "    <tr>\n",
              "      <th>1</th>\n",
              "      <td>_covid I really wish for Sabah gain another thousands cluster forthcoming. What a dumb decision</td>\n",
              "      <td>Negative</td>\n",
              "    </tr>\n",
              "    <tr>\n",
              "      <th>2</th>\n",
              "      <td>In relation to covid ke.. kalau covid tu alot of other countries are handling it better than Malaysia…</td>\n",
              "      <td>Positive</td>\n",
              "    </tr>\n",
              "    <tr>\n",
              "      <th>3</th>\n",
              "      <td>Malaysia's nationwide lockdown that was scheduled to expire Monday is being extended indefinitely, the government…</td>\n",
              "      <td>Neutral</td>\n",
              "    </tr>\n",
              "    <tr>\n",
              "      <th>4</th>\n",
              "      <td>Malaysia will extend its current restrictions until the Covid-19 pandemic is further contained, Prime Minister…</td>\n",
              "      <td>Neutral</td>\n",
              "    </tr>\n",
              "  </tbody>\n",
              "</table>\n",
              "</div>"
            ],
            "text/plain": [
              "                                                                                                                    tweets Sentiments\n",
              "0   Malaysia's nationwide lockdown that was scheduled to expire Monday is being extended indefinitely, the government has…    Neutral\n",
              "1                          _covid I really wish for Sabah gain another thousands cluster forthcoming. What a dumb decision   Negative\n",
              "2                  In relation to covid ke.. kalau covid tu alot of other countries are handling it better than Malaysia…    Positive\n",
              "3      Malaysia's nationwide lockdown that was scheduled to expire Monday is being extended indefinitely, the government…     Neutral\n",
              "4         Malaysia will extend its current restrictions until the Covid-19 pandemic is further contained, Prime Minister…     Neutral"
            ]
          },
          "metadata": {
            "tags": []
          },
          "execution_count": 29
        }
      ]
    },
    {
      "cell_type": "code",
      "metadata": {
        "colab": {
          "base_uri": "https://localhost:8080/"
        },
        "id": "T4_hTVGOnrD6",
        "outputId": "a74adb31-fde6-4588-aab8-f223d9851c47"
      },
      "source": [
        "new_df.shape"
      ],
      "execution_count": 30,
      "outputs": [
        {
          "output_type": "execute_result",
          "data": {
            "text/plain": [
              "(1255, 2)"
            ]
          },
          "metadata": {
            "tags": []
          },
          "execution_count": 30
        }
      ]
    },
    {
      "cell_type": "code",
      "metadata": {
        "id": "N5-1_0_qn3XJ"
      },
      "source": [
        "log_reg = new_df[['tweets','Sentiments']]"
      ],
      "execution_count": 31,
      "outputs": []
    },
    {
      "cell_type": "code",
      "metadata": {
        "colab": {
          "base_uri": "https://localhost:8080/",
          "height": 205
        },
        "id": "8vvAxOjBn8IC",
        "outputId": "5fcc0799-2d1f-4d4d-e303-b8a9d58c9bc0"
      },
      "source": [
        "log_reg.head()"
      ],
      "execution_count": 32,
      "outputs": [
        {
          "output_type": "execute_result",
          "data": {
            "text/html": [
              "<div>\n",
              "<style scoped>\n",
              "    .dataframe tbody tr th:only-of-type {\n",
              "        vertical-align: middle;\n",
              "    }\n",
              "\n",
              "    .dataframe tbody tr th {\n",
              "        vertical-align: top;\n",
              "    }\n",
              "\n",
              "    .dataframe thead th {\n",
              "        text-align: right;\n",
              "    }\n",
              "</style>\n",
              "<table border=\"1\" class=\"dataframe\">\n",
              "  <thead>\n",
              "    <tr style=\"text-align: right;\">\n",
              "      <th></th>\n",
              "      <th>tweets</th>\n",
              "      <th>Sentiments</th>\n",
              "    </tr>\n",
              "  </thead>\n",
              "  <tbody>\n",
              "    <tr>\n",
              "      <th>0</th>\n",
              "      <td>Malaysia's nationwide lockdown that was scheduled to expire Monday is being extended indefinitely, the government has…</td>\n",
              "      <td>Neutral</td>\n",
              "    </tr>\n",
              "    <tr>\n",
              "      <th>1</th>\n",
              "      <td>_covid I really wish for Sabah gain another thousands cluster forthcoming. What a dumb decision</td>\n",
              "      <td>Negative</td>\n",
              "    </tr>\n",
              "    <tr>\n",
              "      <th>2</th>\n",
              "      <td>In relation to covid ke.. kalau covid tu alot of other countries are handling it better than Malaysia…</td>\n",
              "      <td>Positive</td>\n",
              "    </tr>\n",
              "    <tr>\n",
              "      <th>3</th>\n",
              "      <td>Malaysia's nationwide lockdown that was scheduled to expire Monday is being extended indefinitely, the government…</td>\n",
              "      <td>Neutral</td>\n",
              "    </tr>\n",
              "    <tr>\n",
              "      <th>4</th>\n",
              "      <td>Malaysia will extend its current restrictions until the Covid-19 pandemic is further contained, Prime Minister…</td>\n",
              "      <td>Neutral</td>\n",
              "    </tr>\n",
              "  </tbody>\n",
              "</table>\n",
              "</div>"
            ],
            "text/plain": [
              "                                                                                                                    tweets Sentiments\n",
              "0   Malaysia's nationwide lockdown that was scheduled to expire Monday is being extended indefinitely, the government has…    Neutral\n",
              "1                          _covid I really wish for Sabah gain another thousands cluster forthcoming. What a dumb decision   Negative\n",
              "2                  In relation to covid ke.. kalau covid tu alot of other countries are handling it better than Malaysia…    Positive\n",
              "3      Malaysia's nationwide lockdown that was scheduled to expire Monday is being extended indefinitely, the government…     Neutral\n",
              "4         Malaysia will extend its current restrictions until the Covid-19 pandemic is further contained, Prime Minister…     Neutral"
            ]
          },
          "metadata": {
            "tags": []
          },
          "execution_count": 32
        }
      ]
    },
    {
      "cell_type": "code",
      "metadata": {
        "id": "1YRwBPQ7oBuh"
      },
      "source": [
        "log_reg[\"Sentiments\"]= log_reg[\"Sentiments\"].replace('Positive',1) \n",
        "log_reg[\"Sentiments\"]= log_reg[\"Sentiments\"].replace('Neutral',1) \n",
        "log_reg[\"Sentiments\"]= log_reg[\"Sentiments\"].replace('Negative',0) \n",
        " "
      ],
      "execution_count": 33,
      "outputs": []
    },
    {
      "cell_type": "code",
      "metadata": {
        "colab": {
          "base_uri": "https://localhost:8080/",
          "height": 205
        },
        "id": "1-G3xHBsoIlT",
        "outputId": "f3a5a7e4-1654-491b-cbfc-430b05d4f3b3"
      },
      "source": [
        "log_reg.head()"
      ],
      "execution_count": 34,
      "outputs": [
        {
          "output_type": "execute_result",
          "data": {
            "text/html": [
              "<div>\n",
              "<style scoped>\n",
              "    .dataframe tbody tr th:only-of-type {\n",
              "        vertical-align: middle;\n",
              "    }\n",
              "\n",
              "    .dataframe tbody tr th {\n",
              "        vertical-align: top;\n",
              "    }\n",
              "\n",
              "    .dataframe thead th {\n",
              "        text-align: right;\n",
              "    }\n",
              "</style>\n",
              "<table border=\"1\" class=\"dataframe\">\n",
              "  <thead>\n",
              "    <tr style=\"text-align: right;\">\n",
              "      <th></th>\n",
              "      <th>tweets</th>\n",
              "      <th>Sentiments</th>\n",
              "    </tr>\n",
              "  </thead>\n",
              "  <tbody>\n",
              "    <tr>\n",
              "      <th>0</th>\n",
              "      <td>Malaysia's nationwide lockdown that was scheduled to expire Monday is being extended indefinitely, the government has…</td>\n",
              "      <td>1</td>\n",
              "    </tr>\n",
              "    <tr>\n",
              "      <th>1</th>\n",
              "      <td>_covid I really wish for Sabah gain another thousands cluster forthcoming. What a dumb decision</td>\n",
              "      <td>0</td>\n",
              "    </tr>\n",
              "    <tr>\n",
              "      <th>2</th>\n",
              "      <td>In relation to covid ke.. kalau covid tu alot of other countries are handling it better than Malaysia…</td>\n",
              "      <td>1</td>\n",
              "    </tr>\n",
              "    <tr>\n",
              "      <th>3</th>\n",
              "      <td>Malaysia's nationwide lockdown that was scheduled to expire Monday is being extended indefinitely, the government…</td>\n",
              "      <td>1</td>\n",
              "    </tr>\n",
              "    <tr>\n",
              "      <th>4</th>\n",
              "      <td>Malaysia will extend its current restrictions until the Covid-19 pandemic is further contained, Prime Minister…</td>\n",
              "      <td>1</td>\n",
              "    </tr>\n",
              "  </tbody>\n",
              "</table>\n",
              "</div>"
            ],
            "text/plain": [
              "                                                                                                                    tweets  Sentiments\n",
              "0   Malaysia's nationwide lockdown that was scheduled to expire Monday is being extended indefinitely, the government has…           1\n",
              "1                          _covid I really wish for Sabah gain another thousands cluster forthcoming. What a dumb decision           0\n",
              "2                  In relation to covid ke.. kalau covid tu alot of other countries are handling it better than Malaysia…            1\n",
              "3      Malaysia's nationwide lockdown that was scheduled to expire Monday is being extended indefinitely, the government…            1\n",
              "4         Malaysia will extend its current restrictions until the Covid-19 pandemic is further contained, Prime Minister…            1"
            ]
          },
          "metadata": {
            "tags": []
          },
          "execution_count": 34
        }
      ]
    },
    {
      "cell_type": "code",
      "metadata": {
        "colab": {
          "base_uri": "https://localhost:8080/"
        },
        "id": "N4zKY6bjoN5K",
        "outputId": "eedfe4ec-2de6-436d-eef5-b1a2d5b934d8"
      },
      "source": [
        "log_reg['Sentiments'].value_counts()"
      ],
      "execution_count": 35,
      "outputs": [
        {
          "output_type": "execute_result",
          "data": {
            "text/plain": [
              "1    1020\n",
              "0     235\n",
              "Name: Sentiments, dtype: int64"
            ]
          },
          "metadata": {
            "tags": []
          },
          "execution_count": 35
        }
      ]
    },
    {
      "cell_type": "code",
      "metadata": {
        "id": "hw-JfarSoODa"
      },
      "source": [
        "X = log_reg.drop('Sentiments', axis=1)\n",
        "y = log_reg.Sentiments"
      ],
      "execution_count": 36,
      "outputs": []
    },
    {
      "cell_type": "markdown",
      "metadata": {
        "id": "SouDLN8PnZDv"
      },
      "source": [
        "**Removing stopwords**"
      ]
    },
    {
      "cell_type": "code",
      "metadata": {
        "colab": {
          "base_uri": "https://localhost:8080/"
        },
        "id": "uXOSYPnLoU2y",
        "outputId": "f4eb2ccc-425c-41cb-abc3-ae37eb8f3ac7"
      },
      "source": [
        "nltk.download('stopwords')"
      ],
      "execution_count": 37,
      "outputs": [
        {
          "output_type": "stream",
          "text": [
            "[nltk_data] Downloading package stopwords to /root/nltk_data...\n",
            "[nltk_data]   Package stopwords is already up-to-date!\n"
          ],
          "name": "stdout"
        },
        {
          "output_type": "execute_result",
          "data": {
            "text/plain": [
              "True"
            ]
          },
          "metadata": {
            "tags": []
          },
          "execution_count": 37
        }
      ]
    },
    {
      "cell_type": "code",
      "metadata": {
        "id": "JM1dMeS1oXvT"
      },
      "source": [
        "from nltk.corpus import stopwords\n",
        "stop = stopwords.words('english')"
      ],
      "execution_count": 38,
      "outputs": []
    },
    {
      "cell_type": "code",
      "metadata": {
        "colab": {
          "base_uri": "https://localhost:8080/"
        },
        "id": "U79RFOJgoXyJ",
        "outputId": "a00cb7a1-eb17-4a6c-8d86-43a9b1cb9dae"
      },
      "source": [
        "log_reg['tweets'].apply(lambda x: [item for item in x if item not in stop])"
      ],
      "execution_count": 39,
      "outputs": [
        {
          "output_type": "execute_result",
          "data": {
            "text/plain": [
              "0                               [ , M, l, ',  , n, n, w, e,  , l, c, k, w, n,  , h,  , w,  , c, h, e, u, l, e,  ,  , e, x, p, r, e,  , M, n,  ,  , b, e, n, g,  , e, x, e, n, e,  , n, e, f, n, e, l, ,,  , h, e,  , g, v, e, r, n, e, n,  , h, …]\n",
              "1                                                                   [ , _, c, v,  , I,  , r, e, l, l,  , w, h,  , f, r,  , S, b, h,  , g, n,  , n, h, e, r,  , h, u, n,  , c, l, u, e, r,  , f, r, h, c, n, g, .,  , W, h,  ,  , u, b,  , e, c, n]\n",
              "2                                                    [ , I, n,  , r, e, l, n,  ,  , c, v,  , k, e, ., .,  , k, l, u,  , c, v,  , u,  , l,  , f,  , h, e, r,  , c, u, n, r, e,  , r, e,  , h, n, l, n, g,  ,  , b, e, e, r,  , h, n,  , M, l, …,  ]\n",
              "3                                     [M, l, ',  , n, n, w, e,  , l, c, k, w, n,  , h,  , w,  , c, h, e, u, l, e,  ,  , e, x, p, r, e,  , M, n,  ,  , b, e, n, g,  , e, x, e, n, e,  , n, e, f, n, e, l, ,,  , h, e,  , g, v, e, r, n, e, n, …,  ]\n",
              "4                                     [M, l,  , w, l, l,  , e, x, e, n,  ,  , c, u, r, r, e, n,  , r, e, r, c, n,  , u, n, l,  , h, e,  , C, v, -, 1, 9,  , p, n, e, c,  ,  , f, u, r, h, e, r,  , c, n, n, e, ,,  , P, r, e,  , M, n, e, r, …,  ]\n",
              "                                                                                                                           ...                                                                                                                    \n",
              "4980                                                                                     [N, e, r, l,  , 1, 1, 0, ,, 0, 0, 0,  , r, e, c, e, v, e,  , f, r,  , C, v,  , j, b,  ,  , v, c, c, n, n,  , g, h, e, r,  , p, c, e,  , n,  , S, b, u,  ]\n",
              "4987                                                                                                                                        [P, N,  , w, l, l,  , r, u, n,  , M, l,  , b, e, f, r, e,  , C, v,  , e, ., K, e, r, j, n, G, g, l,  ]\n",
              "4988                                  [M, l,  , c, h, e, v, e,  ,  , l,  , h, g, h,  , r, e, c, r,  , f,  , 2, 6, 8, ,, 6, 0, 4,  , C, v, -, 1, 9,  , e,  , n, e, r, e,  , n, n, w, e,  , n,  , 2, 4,  , J, u, n, e, ., M, l,  , r, e, c, h, …,  ]\n",
              "4993    [F, e, e, r, l,  , T, e, r, r, r, e,  , M, n, e, r,  , A, n, n, u, r,  , M, u,  ,  , p, e, p, l, e,  , r, e,  , e, e, n, g, l,  , u, n, f, r,  , f,  , C, v, -, 1, 9, ,,  , w, h, c, h,  , h, e,  , b, e, l, e, v, e,  ,  , n,  , n, …,  ]\n",
              "4996                                                                               [ , J, K, J, A, V,  , C, v, -, 1, 9,  , v, c, c, n, e,  , n, r, n,  , b, v, e,  , 2, 5, 0, ,, 0, 0, 0, -, r, k,  , f, r,  , h, r, e, e,  ,  , n,  ,  , r, w,  ]\n",
              "Name: tweets, Length: 1255, dtype: object"
            ]
          },
          "metadata": {
            "tags": []
          },
          "execution_count": 39
        }
      ]
    },
    {
      "cell_type": "markdown",
      "metadata": {
        "id": "-QyMBXjgp6kF"
      },
      "source": [
        "# **LOGISTIC REGRESSION (BINARY CLASSIFICATION)**"
      ]
    },
    {
      "cell_type": "markdown",
      "metadata": {
        "id": "momSrV17qjzr"
      },
      "source": [
        "**Split train and test dataset**"
      ]
    },
    {
      "cell_type": "code",
      "metadata": {
        "colab": {
          "base_uri": "https://localhost:8080/"
        },
        "id": "_0F8_zd5ofBr",
        "outputId": "a1d3e82a-58a0-4e07-d864-8a612ce57e90"
      },
      "source": [
        "from sklearn.model_selection import train_test_split\n",
        "\n",
        "train,valid = train_test_split(log_reg,test_size = 0.2,random_state=0,stratify = log_reg.Sentiments.values) #stratification means that the train_test_split method returns training and test subsets that have the same proportions of class labels as the input dataset.\n",
        "print(\"train shape : \", train.shape)\n",
        "print(\"valid shape : \", valid.shape)"
      ],
      "execution_count": 40,
      "outputs": [
        {
          "output_type": "stream",
          "text": [
            "train shape :  (1004, 2)\n",
            "valid shape :  (251, 2)\n"
          ],
          "name": "stdout"
        }
      ]
    },
    {
      "cell_type": "markdown",
      "metadata": {
        "id": "Cu4vthlInnts"
      },
      "source": [
        "# Use Of Count Vectorizer For Binary Classification"
      ]
    },
    {
      "cell_type": "code",
      "metadata": {
        "colab": {
          "base_uri": "https://localhost:8080/"
        },
        "id": "XC7JBQL3ofEO",
        "outputId": "6c803637-c4cb-478a-a491-3d3991f6b811"
      },
      "source": [
        "from sklearn.feature_extraction.text import CountVectorizer\n",
        "from nltk.corpus import stopwords\n",
        "stop = list(stopwords.words('english'))\n",
        "vectorizer = CountVectorizer(decode_error = 'replace',stop_words = stop)\n",
        "\n",
        "X_train = vectorizer.fit_transform(train.tweets.values)\n",
        "X_valid = vectorizer.transform(valid.tweets.values)\n",
        "\n",
        "y_train = train.Sentiments.values\n",
        "y_valid = valid.Sentiments.values\n",
        "\n",
        "print(\"X_train.shape : \", X_train.shape)\n",
        "print(\"X_valid.shape : \", X_valid.shape)\n",
        "print(\"y_train.shape : \", y_train.shape)\n",
        "print(\"y_valid.shape : \", y_valid.shape)"
      ],
      "execution_count": 41,
      "outputs": [
        {
          "output_type": "stream",
          "text": [
            "X_train.shape :  (1004, 3012)\n",
            "X_valid.shape :  (251, 3012)\n",
            "y_train.shape :  (1004,)\n",
            "y_valid.shape :  (251,)\n"
          ],
          "name": "stdout"
        }
      ]
    },
    {
      "cell_type": "markdown",
      "metadata": {
        "id": "DwGIMTtPnumG"
      },
      "source": [
        "# Logistic Regression(For Binary Classification)"
      ]
    },
    {
      "cell_type": "code",
      "metadata": {
        "colab": {
          "base_uri": "https://localhost:8080/"
        },
        "id": "7H0L4NyDY723",
        "outputId": "91fffe66-65cf-404d-d55f-34fa53292170"
      },
      "source": [
        "from sklearn.linear_model import LogisticRegression\n",
        "logreg = LogisticRegression()\n",
        "\n",
        "logreg.fit(X_train, y_train)\n",
        "\n",
        "logreg_prediction = logreg.predict(X_valid)\n",
        "number_itter=logreg.n_iter_\n",
        "logreg_accuracy = accuracy_score(y_valid,logreg_prediction)\n",
        "print(\"Training accuracy Score    : \",logreg.score(X_train,y_train))\n",
        "print(\"Validation accuracy Score : \",logreg_accuracy )\n",
        "print(\"number of Iteration : \", number_itter)\n",
        "print(classification_report(logreg_prediction,y_valid))"
      ],
      "execution_count": 42,
      "outputs": [
        {
          "output_type": "stream",
          "text": [
            "Training accuracy Score    :  0.9950199203187251\n",
            "Validation accuracy Score :  0.9123505976095617\n",
            "number of Iteration :  [29]\n",
            "              precision    recall  f1-score   support\n",
            "\n",
            "           0       0.64      0.86      0.73        35\n",
            "           1       0.98      0.92      0.95       216\n",
            "\n",
            "    accuracy                           0.91       251\n",
            "   macro avg       0.81      0.89      0.84       251\n",
            "weighted avg       0.93      0.91      0.92       251\n",
            "\n"
          ],
          "name": "stdout"
        }
      ]
    },
    {
      "cell_type": "code",
      "metadata": {
        "id": "UKabXRNRo_ir"
      },
      "source": [
        "# Get the predicted classes\n",
        "train_class_preds = logreg.predict(X_train)\n",
        "test_class_preds = logreg.predict(X_valid)"
      ],
      "execution_count": 43,
      "outputs": []
    },
    {
      "cell_type": "code",
      "metadata": {
        "colab": {
          "base_uri": "https://localhost:8080/",
          "height": 379
        },
        "id": "gbT9S9OLo_ms",
        "outputId": "74ce1963-3112-422d-8414-5fc615f5a00c"
      },
      "source": [
        "# Get the confusion matrix for train\n",
        "\n",
        "labels = ['Negative', 'Positive']\n",
        "cm = confusion_matrix(train_class_preds, y_train )\n",
        "print(cm)\n",
        "\n",
        "ax= plt.subplot()\n",
        "sns.heatmap(cm, annot=True, ax = ax) #annot=True to annotate cells\n",
        "\n",
        "# labels, title and ticks\n",
        "ax.set_xlabel('Predicted labels')\n",
        "ax.set_ylabel('Actual labels')\n",
        "ax.set_title('Confusion Matrix')\n",
        "ax.xaxis.set_ticklabels(labels)\n",
        "ax.yaxis.set_ticklabels(labels)"
      ],
      "execution_count": 44,
      "outputs": [
        {
          "output_type": "stream",
          "text": [
            "[[183   0]\n",
            " [  5 816]]\n"
          ],
          "name": "stdout"
        },
        {
          "output_type": "execute_result",
          "data": {
            "text/plain": [
              "[Text(0, 0.5, 'Negative'), Text(0, 1.5, 'Positive')]"
            ]
          },
          "metadata": {
            "tags": []
          },
          "execution_count": 44
        },
        {
          "output_type": "display_data",
          "data": {
            "image/png": "[encoded data removed]",
            "text/plain": [
              "<Figure size 432x288 with 2 Axes>"
            ]
          },
          "metadata": {
            "tags": []
          }
        }
      ]
    },
    {
      "cell_type": "code",
      "metadata": {
        "colab": {
          "base_uri": "https://localhost:8080/",
          "height": 379
        },
        "id": "Kp8xUXrc8GKR",
        "outputId": "a49c0dac-f083-4a39-b6f9-ca21d4ace479"
      },
      "source": [
        "# Get the confusion matrix for test\n",
        "\n",
        "labels = ['Negative', 'Positive']\n",
        "cm = confusion_matrix( test_class_preds, y_valid)\n",
        "print(cm)\n",
        "\n",
        "ax= plt.subplot()\n",
        "sns.heatmap(cm, annot=True, ax = ax) #annot=True to annotate cells\n",
        "\n",
        "# labels, title and ticks\n",
        "ax.set_xlabel('Predicted labels')\n",
        "ax.set_ylabel('Actual labels')\n",
        "ax.set_title('Confusion Matrix')\n",
        "ax.xaxis.set_ticklabels(labels)\n",
        "ax.yaxis.set_ticklabels(labels)"
      ],
      "execution_count": 45,
      "outputs": [
        {
          "output_type": "stream",
          "text": [
            "[[ 30   5]\n",
            " [ 17 199]]\n"
          ],
          "name": "stdout"
        },
        {
          "output_type": "execute_result",
          "data": {
            "text/plain": [
              "[Text(0, 0.5, 'Negative'), Text(0, 1.5, 'Positive')]"
            ]
          },
          "metadata": {
            "tags": []
          },
          "execution_count": 45
        },
        {
          "output_type": "display_data",
          "data": {
            "image/png": "[encoded data removed]",
            "text/plain": [
              "<Figure size 432x288 with 2 Axes>"
            ]
          },
          "metadata": {
            "tags": []
          }
        }
      ]
    },
    {
      "cell_type": "code",
      "metadata": {
        "colab": {
          "base_uri": "https://localhost:8080/"
        },
        "id": "9kldaTkNo_qy",
        "outputId": "20f0612f-9fd8-414b-e244-66cc42b54f23"
      },
      "source": [
        "# Let's check the overall accuracy. Overall accuracy is very good.\n",
        "from sklearn.metrics import accuracy_score\n",
        "from sklearn.metrics import log_loss\n",
        "\n",
        "y_pred = logreg.predict(X_valid)\n",
        "\n",
        "score =accuracy_score(y_valid,y_pred)\n",
        "print('accuracy is', score)"
      ],
      "execution_count": 46,
      "outputs": [
        {
          "output_type": "stream",
          "text": [
            "accuracy is 0.9123505976095617\n"
          ],
          "name": "stdout"
        }
      ]
    },
    {
      "cell_type": "code",
      "metadata": {
        "colab": {
          "base_uri": "https://localhost:8080/"
        },
        "id": "Pgme6QTmo_tq",
        "outputId": "a5b81caf-c115-4ae6-c038-48710d9e6964"
      },
      "source": [
        "# F1 score for our classifier\n",
        "from sklearn.metrics import accuracy_score, f1_score, precision_score, recall_score, classification_report, confusion_matrix\n",
        "\n",
        "\n",
        "y_pred =  logreg.predict(X_valid)\n",
        "print(f1_score(y_valid,y_pred, average=\"macro\"))"
      ],
      "execution_count": 47,
      "outputs": [
        {
          "output_type": "stream",
          "text": [
            "0.8396631823461091\n"
          ],
          "name": "stdout"
        }
      ]
    },
    {
      "cell_type": "code",
      "metadata": {
        "colab": {
          "base_uri": "https://localhost:8080/"
        },
        "id": "xdseAZxYpss0",
        "outputId": "2f784c1e-e7c9-4971-94dd-1381d066bebb"
      },
      "source": [
        "# Score is mean accuracy\n",
        "scikit_score = logreg.score(X_valid,y_valid)\n",
        "print('scikit score:', scikit_score)"
      ],
      "execution_count": 48,
      "outputs": [
        {
          "output_type": "stream",
          "text": [
            "scikit score: 0.9123505976095617\n"
          ],
          "name": "stdout"
        }
      ]
    },
    {
      "cell_type": "code",
      "metadata": {
        "colab": {
          "base_uri": "https://localhost:8080/"
        },
        "id": "6OawH1sUrzbC",
        "outputId": "3c53cfe2-2578-4637-9635-02c2bd2b9d47"
      },
      "source": [
        "TP = 199\n",
        "FP = 5\n",
        "# FN (0) and TN (12) are not needed in the formuala!\n",
        "precision = TP / (TP + FP)\n",
        "print(f\"precision: {precision:4.2f}\")"
      ],
      "execution_count": 49,
      "outputs": [
        {
          "output_type": "stream",
          "text": [
            "precision: 0.98\n"
          ],
          "name": "stdout"
        }
      ]
    },
    {
      "cell_type": "code",
      "metadata": {
        "colab": {
          "base_uri": "https://localhost:8080/"
        },
        "id": "q5YbltJ1suyv",
        "outputId": "f15f05f1-04a1-4cfd-a855-20e825744164"
      },
      "source": [
        "TP = 199\n",
        "FN = 17\n",
        "# FT (14) and TN (12) are not needed in the formuala!\n",
        "recall = TP / (TP + FN)\n",
        "print(f\"recall: {recall:4.2f}\")"
      ],
      "execution_count": 50,
      "outputs": [
        {
          "output_type": "stream",
          "text": [
            "recall: 0.92\n"
          ],
          "name": "stdout"
        }
      ]
    }
  ]
}